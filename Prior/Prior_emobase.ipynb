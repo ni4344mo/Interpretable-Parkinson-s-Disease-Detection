{
 "cells": [
  {
   "cell_type": "code",
   "execution_count": 1,
   "id": "2dfc64896c4bba19",
   "metadata": {
    "collapsed": true,
    "ExecuteTime": {
     "end_time": "2024-09-24T09:32:29.522028682Z",
     "start_time": "2024-09-24T09:32:29.443793530Z"
    }
   },
   "outputs": [],
   "source": [
    "import importlib\n",
    "import read_data\n",
    "import pandas as pd"
   ]
  },
  {
   "cell_type": "markdown",
   "source": [
    "# =============================\n",
    "# Load Prior data with emobase features \n",
    "# ============================="
   ],
   "metadata": {
    "collapsed": false
   },
   "id": "50951cbc6e729147"
  },
  {
   "cell_type": "code",
   "execution_count": null,
   "outputs": [],
   "source": [
    "# Reload custom functions to reflect changes during runtime\n",
    "importlib.reload(read_data)\n",
    "# Load preprocessed Prior (Fred) dataset with emobase features\n",
    "data = read_data.read_fred_emobase()\n",
    "data.head()"
   ],
   "metadata": {
    "collapsed": false
   },
   "id": "initial_id"
  },
  {
   "cell_type": "code",
   "execution_count": 3,
   "outputs": [
    {
     "name": "stdout",
     "output_type": "stream",
     "text": [
      "All data\n",
      "Total Size: 81, Subject Size: 81\n",
      "HC - Sample Size: 41, Subject Size: 41\n",
      "PD - Sample Size: 40, Subject Size: 40\n",
      "HC Female - Sample Size: 25, Subject Size: 25\n",
      "HC Male - Sample Size: 16, Subject Size: 16\n",
      "PD Female - Sample Size: 19, Subject Size: 19\n",
      "PD Male - Sample Size: 21, Subject Size: 21\n"
     ]
    }
   ],
   "source": [
    "import Print_data\n",
    "importlib.reload(Print_data)\n",
    "print('All data')\n",
    "Print_data.printdata(data)\n"
   ],
   "metadata": {
    "collapsed": false,
    "ExecuteTime": {
     "end_time": "2024-09-24T09:32:32.713198360Z",
     "start_time": "2024-09-24T09:32:32.691502902Z"
    }
   },
   "id": "11cb6ce7db1583de"
  },
  {
   "cell_type": "code",
   "execution_count": null,
   "outputs": [],
   "source": [
    "import Group_age_gender\n",
    "importlib.reload(Group_age_gender)\n",
    "# Split data into two age groups: Mid (<55), Old (>55)\n",
    "data_mid, data_old = Group_age_gender.age2(data, 55)"
   ],
   "metadata": {
    "collapsed": false
   },
   "id": "4381123e5ebd851c"
  },
  {
   "cell_type": "code",
   "execution_count": 6,
   "outputs": [
    {
     "name": "stdout",
     "output_type": "stream",
     "text": [
      "Mid\n",
      "  Set Condition Gender  Sample Size  Subject Size\n",
      "Train        HC Female           14            14\n",
      "Train        HC   Male            7             7\n",
      "Train        PD Female            1             1\n",
      "Train        PD   Male            1             1\n",
      " Test        HC Female            6             6\n",
      " Test        HC   Male            3             3\n",
      " Test        PD Female            1             1\n",
      " Test        PD   Male            0             0\n",
      "Old\n",
      "  Set Condition Gender  Sample Size  Subject Size\n",
      "Train        HC Female            4             4\n",
      "Train        HC   Male            5             5\n",
      "Train        PD Female           11            11\n",
      "Train        PD   Male           13            13\n",
      " Test        HC Female            1             1\n",
      " Test        HC   Male            1             1\n",
      " Test        PD Female            6             6\n",
      " Test        PD   Male            7             7\n"
     ]
    }
   ],
   "source": [
    "import Train_Test\n",
    "importlib.reload(Train_Test)\n",
    "# Perform train-test split for each age group\n",
    "print('Mid')\n",
    "data_train_mid, data_test_mid = Train_Test.split_and_print2(data_mid)\n",
    "\n",
    "print('Old')\n",
    "data_train_old, data_test_old = Train_Test.split_and_print2(data_old)"
   ],
   "metadata": {
    "collapsed": false,
    "ExecuteTime": {
     "end_time": "2024-09-24T09:32:36.410656088Z",
     "start_time": "2024-09-24T09:32:36.402186926Z"
    }
   },
   "id": "7f4660f2ca2b3e87"
  },
  {
   "cell_type": "markdown",
   "source": [
    "# =============================\n",
    "# Resampling Data\n",
    "# ============================="
   ],
   "metadata": {
    "collapsed": false
   },
   "id": "d4a00d953b234bdc"
  },
  {
   "cell_type": "code",
   "execution_count": null,
   "outputs": [],
   "source": [
    "import Resample\n",
    "importlib.reload(Resample)\n",
    "\n",
    "data_train_mid_rs = Resample.resample_subgroups2(data_train_mid)\n",
    "data_train_old_rs = Resample.resample_subgroups2(data_train_old)"
   ],
   "metadata": {
    "collapsed": false
   },
   "id": "eae3481d6e2c405d"
  },
  {
   "cell_type": "markdown",
   "source": [
    "# =============================\n",
    "# Feature Scaling using GWS\n",
    "# ============================="
   ],
   "metadata": {
    "collapsed": false
   },
   "id": "5d30f316756d3a4e"
  },
  {
   "cell_type": "code",
   "execution_count": 8,
   "outputs": [],
   "source": [
    "import GWS\n",
    "importlib.reload(GWS)\n",
    "data_train_mid_s, data_test_mid_s, scaler_mid_f, scaler_mid_m = GWS.gws(data_train_mid_rs, data_train_mid, data_test_mid)\n",
    "\n",
    "data_train_old_s, data_test_old_s, scaler_old_f, scaler_old_m = GWS.gws(data_train_old_rs, data_train_old, data_test_old)\n"
   ],
   "metadata": {
    "collapsed": false,
    "ExecuteTime": {
     "end_time": "2024-09-24T09:32:38.957554124Z",
     "start_time": "2024-09-24T09:32:38.633873711Z"
    }
   },
   "id": "b3ab6cb139b82392"
  },
  {
   "cell_type": "code",
   "execution_count": 9,
   "outputs": [],
   "source": [
    "# Merge processed training and test data\n",
    "data_train_s = pd.concat([data_train_mid_s, data_train_old_s])\n",
    "data_train_s.columns = data_train_s.columns.str.replace('[<>\\[\\]]', '_', regex=True)\n",
    "data_test_s = pd.concat([data_test_mid_s, data_test_old_s])\n",
    "data_test_s.columns = data_test_s.columns.str.replace('[<>\\[\\]]', '_', regex=True)"
   ],
   "metadata": {
    "collapsed": false,
    "ExecuteTime": {
     "end_time": "2024-09-24T09:32:39.874994689Z",
     "start_time": "2024-09-24T09:32:39.872745634Z"
    }
   },
   "id": "7ae59d32c172b1cb"
  },
  {
   "cell_type": "code",
   "execution_count": 10,
   "outputs": [
    {
     "name": "stdout",
     "output_type": "stream",
     "text": [
      "Accuracy of XGB classifier on training set: 1.0000\n"
     ]
    }
   ],
   "source": [
    "from sklearn.model_selection import GroupShuffleSplit\n",
    "from xgboost import XGBClassifier\n",
    "modelxgb = XGBClassifier(eval_metric='mlogloss')\n",
    "\n",
    "x_train = data_train_s.drop([ 'age', 'healthcode', 'y', 'age_range', 'gender'], axis=1)\n",
    "y_train = data_train_s['y']\n",
    "x_test = data_test_s.drop(['age', 'healthcode', 'y', 'age_range', 'gender'], axis=1)\n",
    "y_test = data_test_s['y']\n",
    "healthcode_train = data_train_s['healthcode']\n",
    "\n",
    "cv = GroupShuffleSplit(n_splits=10, test_size=0.2, random_state=0)\n",
    "modelxgb.fit(x_train, y_train)\n",
    "print('Accuracy of XGB classifier on training set: {:.4f}'.format(modelxgb.score(x_train, y_train)))"
   ],
   "metadata": {
    "collapsed": false,
    "ExecuteTime": {
     "end_time": "2024-09-24T09:32:43.711347553Z",
     "start_time": "2024-09-24T09:32:40.646136813Z"
    }
   },
   "id": "a251b29ad446b16f"
  },
  {
   "cell_type": "markdown",
   "source": [
    "# =============================\n",
    "# Recursive Feature Elimination CV (RFECV)\n",
    "# ============================="
   ],
   "metadata": {
    "collapsed": false
   },
   "id": "540fb62494260505"
  },
  {
   "cell_type": "code",
   "execution_count": 12,
   "outputs": [
    {
     "name": "stdout",
     "output_type": "stream",
     "text": [
      "Optimal number of features: 10\n"
     ]
    },
    {
     "data": {
      "text/plain": "<Figure size 700x300 with 1 Axes>",
      "image/png": "[encoded data removed]"
     },
     "metadata": {},
     "output_type": "display_data"
    }
   ],
   "source": [
    "import RFECV_Func\n",
    "importlib.reload(RFECV_Func)\n",
    "best_features = RFECV_Func.rfecv_sel(x_train, y_train, healthcode_train, modelxgb, \"Fred_emobase\")"
   ],
   "metadata": {
    "collapsed": false,
    "ExecuteTime": {
     "end_time": "2024-09-24T09:34:05.478244056Z",
     "start_time": "2024-09-24T09:33:13.326738384Z"
    }
   },
   "id": "365a221776d10985"
  },
  {
   "cell_type": "code",
   "execution_count": 13,
   "outputs": [
    {
     "name": "stdout",
     "output_type": "stream",
     "text": [
      "Index(['mfcc_sma_3__linregerrA', 'mfcc_sma_3__linregerrQ', 'mfcc_sma_5__range',\n",
      "       'mfcc_sma_7__amean', 'lspFreq_sma_7__stddev', 'voiceProb_sma_quartile1',\n",
      "       'mfcc_sma_de_9__linregc1', 'mfcc_sma_de_9__linregerrQ',\n",
      "       'mfcc_sma_de_11__amean', 'voiceProb_sma_de_quartile1'],\n",
      "      dtype='object')\n"
     ]
    }
   ],
   "source": [
    "print(best_features)"
   ],
   "metadata": {
    "collapsed": false,
    "ExecuteTime": {
     "end_time": "2024-09-24T09:34:12.438548821Z",
     "start_time": "2024-09-24T09:34:12.401423388Z"
    }
   },
   "id": "b6f2097e829e1897"
  },
  {
   "cell_type": "code",
   "execution_count": 36,
   "outputs": [],
   "source": [
    "best_features =['mfcc_sma_3__linregerrA', 'mfcc_sma_3__linregerrQ', 'mfcc_sma_5__range',\n",
    "       'mfcc_sma_7__quartile1', 'lspFreq_sma_7__stddev',\n",
    "       'mfcc_sma_de_9__linregerrQ', 'mfcc_sma_de_11__amean',\n",
    "       'lspFreq_sma_de_0__linregc1']"
   ],
   "metadata": {
    "collapsed": false,
    "ExecuteTime": {
     "end_time": "2024-06-20T10:13:07.040237794Z",
     "start_time": "2024-06-20T10:13:06.948581651Z"
    }
   },
   "id": "438aaa66e5f70b5f"
  },
  {
   "cell_type": "markdown",
   "source": [
    "# =============================\n",
    "# Model Training with Selected Features\n",
    "# ============================="
   ],
   "metadata": {
    "collapsed": false
   },
   "id": "2ccb7878d21f2208"
  },
  {
   "cell_type": "code",
   "execution_count": null,
   "outputs": [],
   "source": [
    "model_rfe = XGBClassifier(eval_metric='mlogloss')\n",
    "x_train_rfe = x_train[best_features]\n",
    "data_test_meta = data_test_s[['age', 'healthcode', 'y', 'age_range', 'gender']]\n",
    "x_test_rfe = data_test_s[best_features]\n",
    "data_test_rfe = pd.concat([x_test_rfe, data_test_meta], axis=1)\n",
    "\n",
    "model_rfe.fit(x_train_rfe, y_train)"
   ],
   "metadata": {
    "collapsed": false
   },
   "id": "8fc698b495a17233"
  },
  {
   "cell_type": "markdown",
   "source": [
    "# Finetuning"
   ],
   "metadata": {
    "collapsed": false
   },
   "id": "9d21edf076d59a5f"
  },
  {
   "cell_type": "code",
   "execution_count": 15,
   "outputs": [
    {
     "name": "stdout",
     "output_type": "stream",
     "text": [
      "Fitting 2 folds for each of 27 candidates, totalling 54 fits\n",
      "Best parameters found: {'max_depth': 2, 'n_estimators': 20}\n",
      "Best accuracy found: 0.7500\n"
     ]
    }
   ],
   "source": [
    "from sklearn.model_selection import GridSearchCV\n",
    "# Define the parameter grid\n",
    "param_grid = {\n",
    "    'n_estimators': range(20, 101, 10),\n",
    "    'max_depth': range(2, 8, 2)\n",
    "}\n",
    "cv2 = GroupShuffleSplit(n_splits=2, test_size=0.2, random_state=0)\n",
    "# Initialize GridSearchCV\n",
    "grid_search = GridSearchCV(estimator=model_rfe, param_grid=param_grid, scoring='accuracy', cv=cv2, verbose=1, n_jobs=-1)\n",
    "\n",
    "# Fit the grid search to the data\n",
    "grid_search.fit(x_train_rfe, y_train, groups=healthcode_train)\n",
    "\n",
    "# Print the best parameters and the best score\n",
    "print(f\"Best parameters found: {grid_search.best_params_}\")\n",
    "print(f\"Best accuracy found: {grid_search.best_score_:.4f}\")\n",
    "\n",
    "# Use the best model found to make predictions\n",
    "best_model = grid_search.best_estimator_"
   ],
   "metadata": {
    "collapsed": false,
    "ExecuteTime": {
     "end_time": "2024-09-24T09:34:37.400255107Z",
     "start_time": "2024-09-24T09:34:34.193175192Z"
    }
   },
   "id": "bb04d9e43b7aeccc"
  },
  {
   "cell_type": "markdown",
   "source": [
    "# =============================\n",
    "# Model Evaluation\n",
    "# ============================="
   ],
   "metadata": {
    "collapsed": false
   },
   "id": "8f09d10fbfdc76a3"
  },
  {
   "cell_type": "markdown",
   "source": [
    "# Test scores"
   ],
   "metadata": {
    "collapsed": false
   },
   "id": "881d5c30f2c53c3e"
  },
  {
   "cell_type": "code",
   "execution_count": 16,
   "outputs": [
    {
     "name": "stdout",
     "output_type": "stream",
     "text": [
      "Accuracy: 0.7200\n",
      "Precision: 0.8182\n",
      "Recall: 0.6429\n",
      "F1-score: 0.7200\n",
      "ROC AUC: 0.8571\n",
      "Specificity: 0.8182\n",
      "\n",
      "Confusion Matrix:\n",
      "   0  1\n",
      "0  9  2\n",
      "1  5  9\n",
      "\n",
      "Classification Report:\n",
      "              precision    recall  f1-score   support\n",
      "\n",
      "           0       0.64      0.82      0.72        11\n",
      "           1       0.82      0.64      0.72        14\n",
      "\n",
      "    accuracy                           0.72        25\n",
      "   macro avg       0.73      0.73      0.72        25\n",
      "weighted avg       0.74      0.72      0.72        25\n"
     ]
    }
   ],
   "source": [
    "import Evaluation\n",
    "importlib.reload(Evaluation)\n",
    "Evaluation.evaluate_model(best_model, data_test_rfe)"
   ],
   "metadata": {
    "collapsed": false,
    "ExecuteTime": {
     "end_time": "2024-09-24T09:34:53.147608182Z",
     "start_time": "2024-09-24T09:34:53.098607091Z"
    }
   },
   "id": "8681b2b05f13658e"
  },
  {
   "cell_type": "markdown",
   "source": [
    "# CV scores"
   ],
   "metadata": {
    "collapsed": false
   },
   "id": "fcaf2dc5e7c0284b"
  },
  {
   "cell_type": "code",
   "execution_count": 17,
   "outputs": [
    {
     "name": "stdout",
     "output_type": "stream",
     "text": [
      "accuracy: 0.8056 (+/- 0.0786)\n",
      "precision: 0.9167 (+/- 0.1179)\n",
      "recall: 0.6683 (+/- 0.1173)\n",
      "f1: 0.7677 (+/- 0.1030)\n",
      "roc_auc: 0.9146 (+/- 0.0620)\n",
      "specificity: 0.9524 (+/- 0.0673)\n"
     ]
    }
   ],
   "source": [
    "import Evaluation\n",
    "importlib.reload(Evaluation)\n",
    "\n",
    "Evaluation.cv_scores(x_train_rfe,y_train, healthcode_train, best_model)"
   ],
   "metadata": {
    "collapsed": false,
    "ExecuteTime": {
     "end_time": "2024-09-24T09:35:03.167904430Z",
     "start_time": "2024-09-24T09:35:03.115885843Z"
    }
   },
   "id": "1dd386b68a8af6ad"
  }
 ],
 "metadata": {
  "kernelspec": {
   "display_name": "Python 3",
   "language": "python",
   "name": "python3"
  },
  "language_info": {
   "codemirror_mode": {
    "name": "ipython",
    "version": 2
   },
   "file_extension": ".py",
   "mimetype": "text/x-python",
   "name": "python",
   "nbconvert_exporter": "python",
   "pygments_lexer": "ipython2",
   "version": "2.7.6"
  }
 },
 "nbformat": 4,
 "nbformat_minor": 5
}
