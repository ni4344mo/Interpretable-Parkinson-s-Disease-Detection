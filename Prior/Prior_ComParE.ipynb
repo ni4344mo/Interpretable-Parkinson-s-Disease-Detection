{
 "cells": [
  {
   "cell_type": "code",
   "execution_count": 1,
   "id": "2dfc64896c4bba19",
   "metadata": {
    "collapsed": true,
    "ExecuteTime": {
     "end_time": "2024-09-18T09:38:13.298675492Z",
     "start_time": "2024-09-18T09:38:13.264222798Z"
    }
   },
   "outputs": [],
   "source": [
    "import importlib\n",
    "import read_data\n",
    "import Anomaly\n",
    "import pandas as pd"
   ]
  },
  {
   "cell_type": "markdown",
   "source": [
    "# =============================\n",
    "# Load Prior data with eGeMAPS features \n",
    "# ============================="
   ],
   "metadata": {
    "collapsed": false
   },
   "id": "f2afced25158a124"
  },
  {
   "cell_type": "code",
   "execution_count": 3,
   "outputs": [
    {
     "data": {
      "text/plain": "   audspec_lengthL1norm_sma_range  audspec_lengthL1norm_sma_maxPos  \\\n0                        1.130341                         0.005348   \n1                        1.652798                         0.028939   \n2                        1.545128                         0.009780   \n3                        1.670086                         0.391304   \n4                        0.854652                         0.489474   \n\n   audspec_lengthL1norm_sma_minPos  audspec_lengthL1norm_sma_quartile1  \\\n0                         0.267380                            0.965085   \n1                         0.006431                            1.941654   \n2                         0.132029                            1.186973   \n3                         0.996377                            1.465249   \n4                         0.789474                            1.819014   \n\n   audspec_lengthL1norm_sma_quartile2  audspec_lengthL1norm_sma_quartile3  \\\n0                            1.133282                            1.403115   \n1                            2.009513                            2.065154   \n2                            1.377884                            1.475578   \n3                            1.581563                            1.732965   \n4                            1.908600                            1.990822   \n\n   audspec_lengthL1norm_sma_iqr1-2  audspec_lengthL1norm_sma_iqr2-3  \\\n0                         0.168198                         0.269833   \n1                         0.067859                         0.055641   \n2                         0.190911                         0.097694   \n3                         0.116314                         0.151403   \n4                         0.089585                         0.082222   \n\n   audspec_lengthL1norm_sma_iqr1-3  audspec_lengthL1norm_sma_percentile1.0  \\\n0                         0.438031                                0.822254   \n1                         0.123500                                1.373330   \n2                         0.288605                                0.871806   \n3                         0.267717                                0.609073   \n4                         0.171807                                1.669168   \n\n   ...  mfcc_sma_de[14]_peakMeanRel  mfcc_sma_de[14]_minRangeRel  \\\n0  ...                    19.805271                     0.548956   \n1  ...                   -12.697535                     0.619887   \n2  ...                   -15.431709                     0.593173   \n3  ...                   -18.874744                     0.580749   \n4  ...                    19.771214                     0.543031   \n\n   mfcc_sma_de[14]_meanRisingSlope  mfcc_sma_de[14]_stddevRisingSlope  \\\n0                        35.461950                          17.907717   \n1                        37.415863                          28.480030   \n2                        41.377460                          19.822933   \n3                        85.286910                          33.769740   \n4                        57.004646                          20.768187   \n\n   mfcc_sma_de[14]_meanFallingSlope  mfcc_sma_de[14]_stddevFallingSlope  \\\n0                         51.177880                           17.188680   \n1                         33.911224                           25.209680   \n2                         44.814890                           20.931763   \n3                         74.290375                           29.065989   \n4                         52.769306                           26.917221   \n\n                                     healthcode  y   age  gender  \n0  AH_942A_3F7867F3-1AE2-4BE6-B5EC-AC3157D310CF  0  79.0       1  \n1  AH_325A_3EB21DC7-C340-4D0E-AC9E-0EABF217BBEE  0  43.0       0  \n2  AH_264Z_593C20CD-0A54-4177-B031-26EE147080A3  0  72.0       0  \n3  AH_888A_7F1444B0-B12C-4B55-AF2A-463395DCAF3C  0  61.0       1  \n4  AH_325J_7F5F27AA-5A93-43CF-AB17-FC53940BF4B0  0  43.0       0  \n\n[5 rows x 6377 columns]",
      "text/html": "<div>\n<style scoped>\n    .dataframe tbody tr th:only-of-type {\n        vertical-align: middle;\n    }\n\n    .dataframe tbody tr th {\n        vertical-align: top;\n    }\n\n    .dataframe thead th {\n        text-align: right;\n    }\n</style>\n<table border=\"1\" class=\"dataframe\">\n  <thead>\n    <tr style=\"text-align: right;\">\n      <th></th>\n      <th>audspec_lengthL1norm_sma_range</th>\n      <th>audspec_lengthL1norm_sma_maxPos</th>\n      <th>audspec_lengthL1norm_sma_minPos</th>\n      <th>audspec_lengthL1norm_sma_quartile1</th>\n      <th>audspec_lengthL1norm_sma_quartile2</th>\n      <th>audspec_lengthL1norm_sma_quartile3</th>\n      <th>audspec_lengthL1norm_sma_iqr1-2</th>\n      <th>audspec_lengthL1norm_sma_iqr2-3</th>\n      <th>audspec_lengthL1norm_sma_iqr1-3</th>\n      <th>audspec_lengthL1norm_sma_percentile1.0</th>\n      <th>...</th>\n      <th>mfcc_sma_de[14]_peakMeanRel</th>\n      <th>mfcc_sma_de[14]_minRangeRel</th>\n      <th>mfcc_sma_de[14]_meanRisingSlope</th>\n      <th>mfcc_sma_de[14]_stddevRisingSlope</th>\n      <th>mfcc_sma_de[14]_meanFallingSlope</th>\n      <th>mfcc_sma_de[14]_stddevFallingSlope</th>\n      <th>healthcode</th>\n      <th>y</th>\n      <th>age</th>\n      <th>gender</th>\n    </tr>\n  </thead>\n  <tbody>\n    <tr>\n      <th>0</th>\n      <td>1.130341</td>\n      <td>0.005348</td>\n      <td>0.267380</td>\n      <td>0.965085</td>\n      <td>1.133282</td>\n      <td>1.403115</td>\n      <td>0.168198</td>\n      <td>0.269833</td>\n      <td>0.438031</td>\n      <td>0.822254</td>\n      <td>...</td>\n      <td>19.805271</td>\n      <td>0.548956</td>\n      <td>35.461950</td>\n      <td>17.907717</td>\n      <td>51.177880</td>\n      <td>17.188680</td>\n      <td>AH_942A_3F7867F3-1AE2-4BE6-B5EC-AC3157D310CF</td>\n      <td>0</td>\n      <td>79.0</td>\n      <td>1</td>\n    </tr>\n    <tr>\n      <th>1</th>\n      <td>1.652798</td>\n      <td>0.028939</td>\n      <td>0.006431</td>\n      <td>1.941654</td>\n      <td>2.009513</td>\n      <td>2.065154</td>\n      <td>0.067859</td>\n      <td>0.055641</td>\n      <td>0.123500</td>\n      <td>1.373330</td>\n      <td>...</td>\n      <td>-12.697535</td>\n      <td>0.619887</td>\n      <td>37.415863</td>\n      <td>28.480030</td>\n      <td>33.911224</td>\n      <td>25.209680</td>\n      <td>AH_325A_3EB21DC7-C340-4D0E-AC9E-0EABF217BBEE</td>\n      <td>0</td>\n      <td>43.0</td>\n      <td>0</td>\n    </tr>\n    <tr>\n      <th>2</th>\n      <td>1.545128</td>\n      <td>0.009780</td>\n      <td>0.132029</td>\n      <td>1.186973</td>\n      <td>1.377884</td>\n      <td>1.475578</td>\n      <td>0.190911</td>\n      <td>0.097694</td>\n      <td>0.288605</td>\n      <td>0.871806</td>\n      <td>...</td>\n      <td>-15.431709</td>\n      <td>0.593173</td>\n      <td>41.377460</td>\n      <td>19.822933</td>\n      <td>44.814890</td>\n      <td>20.931763</td>\n      <td>AH_264Z_593C20CD-0A54-4177-B031-26EE147080A3</td>\n      <td>0</td>\n      <td>72.0</td>\n      <td>0</td>\n    </tr>\n    <tr>\n      <th>3</th>\n      <td>1.670086</td>\n      <td>0.391304</td>\n      <td>0.996377</td>\n      <td>1.465249</td>\n      <td>1.581563</td>\n      <td>1.732965</td>\n      <td>0.116314</td>\n      <td>0.151403</td>\n      <td>0.267717</td>\n      <td>0.609073</td>\n      <td>...</td>\n      <td>-18.874744</td>\n      <td>0.580749</td>\n      <td>85.286910</td>\n      <td>33.769740</td>\n      <td>74.290375</td>\n      <td>29.065989</td>\n      <td>AH_888A_7F1444B0-B12C-4B55-AF2A-463395DCAF3C</td>\n      <td>0</td>\n      <td>61.0</td>\n      <td>1</td>\n    </tr>\n    <tr>\n      <th>4</th>\n      <td>0.854652</td>\n      <td>0.489474</td>\n      <td>0.789474</td>\n      <td>1.819014</td>\n      <td>1.908600</td>\n      <td>1.990822</td>\n      <td>0.089585</td>\n      <td>0.082222</td>\n      <td>0.171807</td>\n      <td>1.669168</td>\n      <td>...</td>\n      <td>19.771214</td>\n      <td>0.543031</td>\n      <td>57.004646</td>\n      <td>20.768187</td>\n      <td>52.769306</td>\n      <td>26.917221</td>\n      <td>AH_325J_7F5F27AA-5A93-43CF-AB17-FC53940BF4B0</td>\n      <td>0</td>\n      <td>43.0</td>\n      <td>0</td>\n    </tr>\n  </tbody>\n</table>\n<p>5 rows × 6377 columns</p>\n</div>"
     },
     "execution_count": 3,
     "metadata": {},
     "output_type": "execute_result"
    }
   ],
   "source": [
    "# Reload custom functions to reflect changes during runtime\n",
    "importlib.reload(read_data)\n",
    "# Load preprocessed Prior (Fred) dataset with ComParE features\n",
    "data = read_data.read_fred_ComParE()\n",
    "data.head()"
   ],
   "metadata": {
    "collapsed": false,
    "ExecuteTime": {
     "end_time": "2024-09-18T09:38:49.599203196Z",
     "start_time": "2024-09-18T09:38:49.443185735Z"
    }
   },
   "id": "initial_id"
  },
  {
   "cell_type": "code",
   "execution_count": 4,
   "outputs": [
    {
     "name": "stdout",
     "output_type": "stream",
     "text": [
      "All data\n",
      "Total Size: 81, Subject Size: 81\n",
      "HC - Sample Size: 41, Subject Size: 41\n",
      "PD - Sample Size: 40, Subject Size: 40\n",
      "HC Female - Sample Size: 25, Subject Size: 25\n",
      "HC Male - Sample Size: 16, Subject Size: 16\n",
      "PD Female - Sample Size: 19, Subject Size: 19\n",
      "PD Male - Sample Size: 21, Subject Size: 21\n"
     ]
    }
   ],
   "source": [
    "import Print_data\n",
    "importlib.reload(Print_data)\n",
    "print('All data')\n",
    "Print_data.printdata(data)\n"
   ],
   "metadata": {
    "collapsed": false,
    "ExecuteTime": {
     "end_time": "2024-09-18T09:41:41.510937847Z",
     "start_time": "2024-09-18T09:41:41.469606642Z"
    }
   },
   "id": "11cb6ce7db1583de"
  },
  {
   "cell_type": "code",
   "execution_count": null,
   "outputs": [],
   "source": [
    "import Group_age_gender\n",
    "importlib.reload(Group_age_gender)\n",
    "# Split data into two age groups: Mid (<55), Old (>55)\n",
    "data_mid, data_old = Group_age_gender.age2(data, 55)"
   ],
   "metadata": {
    "collapsed": false
   },
   "id": "4381123e5ebd851c"
  },
  {
   "cell_type": "code",
   "execution_count": 7,
   "outputs": [
    {
     "name": "stdout",
     "output_type": "stream",
     "text": [
      "Mid\n",
      "  Set Condition Gender  Sample Size  Subject Size\n",
      "Train        HC Female           14            14\n",
      "Train        HC   Male            7             7\n",
      "Train        PD Female            1             1\n",
      "Train        PD   Male            1             1\n",
      " Test        HC Female            6             6\n",
      " Test        HC   Male            3             3\n",
      " Test        PD Female            1             1\n",
      " Test        PD   Male            0             0\n",
      "Old\n",
      "  Set Condition Gender  Sample Size  Subject Size\n",
      "Train        HC Female            4             4\n",
      "Train        HC   Male            5             5\n",
      "Train        PD Female           11            11\n",
      "Train        PD   Male           13            13\n",
      " Test        HC Female            1             1\n",
      " Test        HC   Male            1             1\n",
      " Test        PD Female            6             6\n",
      " Test        PD   Male            7             7\n"
     ]
    }
   ],
   "source": [
    "import Train_Test\n",
    "importlib.reload(Train_Test)\n",
    "# Perform train-test split for each age group\n",
    "print('Mid')\n",
    "data_train_mid, data_test_mid = Train_Test.split_and_print2(data_mid)\n",
    "\n",
    "print('Old')\n",
    "data_train_old, data_test_old = Train_Test.split_and_print2(data_old)"
   ],
   "metadata": {
    "collapsed": false,
    "ExecuteTime": {
     "end_time": "2024-09-18T09:42:15.643843582Z",
     "start_time": "2024-09-18T09:42:15.631141074Z"
    }
   },
   "id": "7f4660f2ca2b3e87"
  },
  {
   "cell_type": "markdown",
   "source": [
    "# =============================\n",
    "# Resampling Data\n",
    "# ============================="
   ],
   "metadata": {
    "collapsed": false
   },
   "id": "549a83d758ea91f5"
  },
  {
   "cell_type": "code",
   "execution_count": null,
   "outputs": [],
   "source": [
    "import Resample\n",
    "importlib.reload(Resample)\n",
    "# data_train_rs = Resample.resample_subgroups3(data_train)\n",
    "data_train_mid_rs = Resample.resample_subgroups2(data_train_mid)\n",
    "data_train_old_rs = Resample.resample_subgroups2(data_train_old)"
   ],
   "metadata": {
    "collapsed": false
   },
   "id": "eae3481d6e2c405d"
  },
  {
   "cell_type": "markdown",
   "source": [
    "# =============================\n",
    "# Feature Scaling using GWS\n",
    "# ============================="
   ],
   "metadata": {
    "collapsed": false
   },
   "id": "cd1844292f9aa9df"
  },
  {
   "cell_type": "code",
   "execution_count": 9,
   "outputs": [],
   "source": [
    "import GWS\n",
    "importlib.reload(GWS)\n",
    "data_train_mid_s, data_test_mid_s, scaler_mid_f, scaler_mid_m = GWS.gws(data_train_mid_rs, data_train_mid, data_test_mid)\n",
    "\n",
    "data_train_old_s, data_test_old_s, scaler_old_f, scaler_old_m = GWS.gws(data_train_old_rs, data_train_old, data_test_old)\n"
   ],
   "metadata": {
    "collapsed": false,
    "ExecuteTime": {
     "end_time": "2024-09-18T09:42:20.521185954Z",
     "start_time": "2024-09-18T09:42:18.678412178Z"
    }
   },
   "id": "b3ab6cb139b82392"
  },
  {
   "cell_type": "code",
   "execution_count": 10,
   "outputs": [],
   "source": [
    "# Merge processed training and test data\n",
    "data_train_s = pd.concat([data_train_mid_s, data_train_old_s])\n",
    "data_train_s.columns = data_train_s.columns.str.replace('[<>\\[\\]]', '_', regex=True)\n",
    "data_test_s = pd.concat([data_test_mid_s, data_test_old_s])\n",
    "data_test_s.columns = data_test_s.columns.str.replace('[<>\\[\\]]', '_', regex=True)"
   ],
   "metadata": {
    "collapsed": false,
    "ExecuteTime": {
     "end_time": "2024-09-18T09:42:22.912347895Z",
     "start_time": "2024-09-18T09:42:22.899122836Z"
    }
   },
   "id": "7ae59d32c172b1cb"
  },
  {
   "cell_type": "markdown",
   "source": [
    "# =============================\n",
    "# Model Training \n",
    "# ============================="
   ],
   "metadata": {
    "collapsed": false
   },
   "id": "a60eab52c51dca04"
  },
  {
   "cell_type": "code",
   "execution_count": 11,
   "outputs": [
    {
     "name": "stdout",
     "output_type": "stream",
     "text": [
      "Accuracy of XGB classifier on training set: 1.0000\n"
     ]
    }
   ],
   "source": [
    "from sklearn.model_selection import GroupShuffleSplit\n",
    "from xgboost import XGBClassifier\n",
    "modelxgb = XGBClassifier(eval_metric='mlogloss')\n",
    "\n",
    "x_train = data_train_s.drop([ 'age', 'healthcode', 'y', 'age_range', 'gender'], axis=1)\n",
    "y_train = data_train_s['y']\n",
    "x_test = data_test_s.drop(['age', 'healthcode', 'y', 'age_range', 'gender'], axis=1)\n",
    "y_test = data_test_s['y']\n",
    "healthcode_train = data_train_s['healthcode']\n",
    "\n",
    "cv = GroupShuffleSplit(n_splits=10, test_size=0.2, random_state=0)\n",
    "modelxgb.fit(x_train, y_train)\n",
    "print('Accuracy of XGB classifier on training set: {:.4f}'.format(modelxgb.score(x_train, y_train)))"
   ],
   "metadata": {
    "collapsed": false,
    "ExecuteTime": {
     "end_time": "2024-09-18T09:42:24.567426991Z",
     "start_time": "2024-09-18T09:42:23.775258076Z"
    }
   },
   "id": "a251b29ad446b16f"
  },
  {
   "cell_type": "markdown",
   "source": [
    "# =============================\n",
    "# Model Evaluation\n",
    "# ============================="
   ],
   "metadata": {
    "collapsed": false
   },
   "id": "9e37d3105a440da7"
  },
  {
   "cell_type": "markdown",
   "source": [
    "# Test scores"
   ],
   "metadata": {
    "collapsed": false
   },
   "id": "ee3d98650b8a6b2a"
  },
  {
   "cell_type": "code",
   "execution_count": 13,
   "outputs": [
    {
     "name": "stdout",
     "output_type": "stream",
     "text": [
      "Accuracy: 0.7600\n",
      "Precision: 0.9000\n",
      "Recall: 0.6429\n",
      "F1-score: 0.7500\n",
      "ROC AUC: 0.8961\n",
      "Specificity: 0.9091\n",
      "\n",
      "Confusion Matrix:\n",
      "    0  1\n",
      "0  10  1\n",
      "1   5  9\n",
      "\n",
      "Classification Report:\n",
      "              precision    recall  f1-score   support\n",
      "\n",
      "           0       0.67      0.91      0.77        11\n",
      "           1       0.90      0.64      0.75        14\n",
      "\n",
      "    accuracy                           0.76        25\n",
      "   macro avg       0.78      0.78      0.76        25\n",
      "weighted avg       0.80      0.76      0.76        25\n"
     ]
    }
   ],
   "source": [
    "import Evaluation\n",
    "importlib.reload(Evaluation)\n",
    "\n",
    "Evaluation.evaluate_model(modelxgb, data_test_s)"
   ],
   "metadata": {
    "collapsed": false,
    "ExecuteTime": {
     "end_time": "2024-09-18T09:42:31.853292163Z",
     "start_time": "2024-09-18T09:42:31.694193183Z"
    }
   },
   "id": "9f49b9ad0750c83e"
  },
  {
   "cell_type": "markdown",
   "source": [
    "# CV scores"
   ],
   "metadata": {
    "collapsed": false
   },
   "id": "b50b33ec913d3da6"
  },
  {
   "cell_type": "code",
   "execution_count": 15,
   "outputs": [
    {
     "name": "stdout",
     "output_type": "stream",
     "text": [
      "accuracy: 0.7222 (+/- 0.0786)\n",
      "precision: 0.9333 (+/- 0.0943)\n",
      "recall: 0.4794 (+/- 0.2013)\n",
      "f1: 0.6000 (+/- 0.1963)\n",
      "roc_auc: 0.8481 (+/- 0.0720)\n",
      "specificity: 0.9333 (+/- 0.0943)\n"
     ]
    }
   ],
   "source": [
    "import Evaluation\n",
    "importlib.reload(Evaluation)\n",
    "\n",
    "Evaluation.cv_scores(x_train,y_train, healthcode_train, modelxgb)"
   ],
   "metadata": {
    "collapsed": false,
    "ExecuteTime": {
     "end_time": "2024-09-18T09:43:44.126385079Z",
     "start_time": "2024-09-18T09:43:41.994207797Z"
    }
   },
   "id": "6453d187ac4dd5a2"
  }
 ],
 "metadata": {
  "kernelspec": {
   "display_name": "Python 3",
   "language": "python",
   "name": "python3"
  },
  "language_info": {
   "codemirror_mode": {
    "name": "ipython",
    "version": 2
   },
   "file_extension": ".py",
   "mimetype": "text/x-python",
   "name": "python",
   "nbconvert_exporter": "python",
   "pygments_lexer": "ipython2",
   "version": "2.7.6"
  }
 },
 "nbformat": 4,
 "nbformat_minor": 5
}
