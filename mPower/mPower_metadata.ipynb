{
 "cells": [
  {
   "cell_type": "code",
   "execution_count": 11,
   "metadata": {
    "collapsed": true,
    "ExecuteTime": {
     "start_time": "2023-04-20T14:24:59.803227Z",
     "end_time": "2023-04-20T14:24:59.808695Z"
    }
   },
   "outputs": [],
   "source": [
    "# import libraries\n",
    "import pandas as pd"
   ]
  },
  {
   "cell_type": "markdown",
   "source": [
    "# =============================\n",
    "# Load mPower demographic data \n",
    "# ============================="
   ],
   "metadata": {
    "collapsed": false
   }
  },
  {
   "cell_type": "code",
   "execution_count": 12,
   "outputs": [
    {
     "name": "stdout",
     "output_type": "stream",
     "text": [
      "Size of demographic survey data : (6805, 33)\n"
     ]
    },
    {
     "data": {
      "text/plain": "   ROW_ID  ROW_VERSION                              recordId  \\\n0   20580           21  bbb003a9-5c7b-4d66-a1d3-bcd1430edbb7   \n1   20581           21  889f09c7-e5fa-41d3-8beb-e6d0e6c85100   \n2   20582           21  05258304-77f7-4761-bc58-52dc743e44cd   \n3   20583           21  b331ff56-c6d9-430a-bc6c-b6f52d2d8e9f   \n4   20584           21  6926995b-1d3e-45c9-858b-bd5e0ceb4e68   \n\n                             healthCode      createdOn            appVersion  \\\n0  639e8a78-3631-4231-bda1-c911c1b169e5  1425904649000  version 1.0, build 7   \n1  9295f618-177c-4676-b6aa-dc8419fd37ec  1425924944000  version 1.0, build 7   \n2  52fe366a-2a9f-4260-9fb1-0fbc637a6cf4  1425926191000  version 1.0, build 7   \n3  67bdd316-26fc-4fc7-8431-bf9f41a649dd  1425926604000  version 1.0, build 7   \n4  45b4e2ca-8d15-4736-828c-829e3d4177f4  1425926804000  version 1.0, build 7   \n\n         phoneInfo   age are-caretaker deep-brain-stimulation  ...  \\\n0         iPhone 6  24.0         False                  False  ...   \n1  iPhone 5s (GSM)  40.0         False                    NaN  ...   \n2  iPhone 5s (GSM)  38.0         False                  False  ...   \n3    iPhone 6 Plus  32.0         False                  False  ...   \n4         iPhone 6  48.0         False                    NaN  ...   \n\n   packs-per-day past-participation phone-usage professional-diagnosis  \\\n0            NaN              False        true                  False   \n1            NaN              False        true                    NaN   \n2            NaN              False        true                  False   \n3            1.0              False        true                  False   \n4            1.0              False        true                  False   \n\n                   race smartphone smoked  surgery video-usage years-smoking  \n0  \"White or Caucasian\"  Very easy  False    False       False           NaN  \n1  \"White or Caucasian\"  Very easy    NaN      NaN        True           NaN  \n2  \"White or Caucasian\"  Very easy  False      NaN        True           NaN  \n3  \"White or Caucasian\"  Very easy   True      NaN        True           8.0  \n4  \"White or Caucasian\"  Very easy   True      NaN        True           4.0  \n\n[5 rows x 33 columns]",
      "text/html": "<div>\n<style scoped>\n    .dataframe tbody tr th:only-of-type {\n        vertical-align: middle;\n    }\n\n    .dataframe tbody tr th {\n        vertical-align: top;\n    }\n\n    .dataframe thead th {\n        text-align: right;\n    }\n</style>\n<table border=\"1\" class=\"dataframe\">\n  <thead>\n    <tr style=\"text-align: right;\">\n      <th></th>\n      <th>ROW_ID</th>\n      <th>ROW_VERSION</th>\n      <th>recordId</th>\n      <th>healthCode</th>\n      <th>createdOn</th>\n      <th>appVersion</th>\n      <th>phoneInfo</th>\n      <th>age</th>\n      <th>are-caretaker</th>\n      <th>deep-brain-stimulation</th>\n      <th>...</th>\n      <th>packs-per-day</th>\n      <th>past-participation</th>\n      <th>phone-usage</th>\n      <th>professional-diagnosis</th>\n      <th>race</th>\n      <th>smartphone</th>\n      <th>smoked</th>\n      <th>surgery</th>\n      <th>video-usage</th>\n      <th>years-smoking</th>\n    </tr>\n  </thead>\n  <tbody>\n    <tr>\n      <th>0</th>\n      <td>20580</td>\n      <td>21</td>\n      <td>bbb003a9-5c7b-4d66-a1d3-bcd1430edbb7</td>\n      <td>639e8a78-3631-4231-bda1-c911c1b169e5</td>\n      <td>1425904649000</td>\n      <td>version 1.0, build 7</td>\n      <td>iPhone 6</td>\n      <td>24.0</td>\n      <td>False</td>\n      <td>False</td>\n      <td>...</td>\n      <td>NaN</td>\n      <td>False</td>\n      <td>true</td>\n      <td>False</td>\n      <td>\"White or Caucasian\"</td>\n      <td>Very easy</td>\n      <td>False</td>\n      <td>False</td>\n      <td>False</td>\n      <td>NaN</td>\n    </tr>\n    <tr>\n      <th>1</th>\n      <td>20581</td>\n      <td>21</td>\n      <td>889f09c7-e5fa-41d3-8beb-e6d0e6c85100</td>\n      <td>9295f618-177c-4676-b6aa-dc8419fd37ec</td>\n      <td>1425924944000</td>\n      <td>version 1.0, build 7</td>\n      <td>iPhone 5s (GSM)</td>\n      <td>40.0</td>\n      <td>False</td>\n      <td>NaN</td>\n      <td>...</td>\n      <td>NaN</td>\n      <td>False</td>\n      <td>true</td>\n      <td>NaN</td>\n      <td>\"White or Caucasian\"</td>\n      <td>Very easy</td>\n      <td>NaN</td>\n      <td>NaN</td>\n      <td>True</td>\n      <td>NaN</td>\n    </tr>\n    <tr>\n      <th>2</th>\n      <td>20582</td>\n      <td>21</td>\n      <td>05258304-77f7-4761-bc58-52dc743e44cd</td>\n      <td>52fe366a-2a9f-4260-9fb1-0fbc637a6cf4</td>\n      <td>1425926191000</td>\n      <td>version 1.0, build 7</td>\n      <td>iPhone 5s (GSM)</td>\n      <td>38.0</td>\n      <td>False</td>\n      <td>False</td>\n      <td>...</td>\n      <td>NaN</td>\n      <td>False</td>\n      <td>true</td>\n      <td>False</td>\n      <td>\"White or Caucasian\"</td>\n      <td>Very easy</td>\n      <td>False</td>\n      <td>NaN</td>\n      <td>True</td>\n      <td>NaN</td>\n    </tr>\n    <tr>\n      <th>3</th>\n      <td>20583</td>\n      <td>21</td>\n      <td>b331ff56-c6d9-430a-bc6c-b6f52d2d8e9f</td>\n      <td>67bdd316-26fc-4fc7-8431-bf9f41a649dd</td>\n      <td>1425926604000</td>\n      <td>version 1.0, build 7</td>\n      <td>iPhone 6 Plus</td>\n      <td>32.0</td>\n      <td>False</td>\n      <td>False</td>\n      <td>...</td>\n      <td>1.0</td>\n      <td>False</td>\n      <td>true</td>\n      <td>False</td>\n      <td>\"White or Caucasian\"</td>\n      <td>Very easy</td>\n      <td>True</td>\n      <td>NaN</td>\n      <td>True</td>\n      <td>8.0</td>\n    </tr>\n    <tr>\n      <th>4</th>\n      <td>20584</td>\n      <td>21</td>\n      <td>6926995b-1d3e-45c9-858b-bd5e0ceb4e68</td>\n      <td>45b4e2ca-8d15-4736-828c-829e3d4177f4</td>\n      <td>1425926804000</td>\n      <td>version 1.0, build 7</td>\n      <td>iPhone 6</td>\n      <td>48.0</td>\n      <td>False</td>\n      <td>NaN</td>\n      <td>...</td>\n      <td>1.0</td>\n      <td>False</td>\n      <td>true</td>\n      <td>False</td>\n      <td>\"White or Caucasian\"</td>\n      <td>Very easy</td>\n      <td>True</td>\n      <td>NaN</td>\n      <td>True</td>\n      <td>4.0</td>\n    </tr>\n  </tbody>\n</table>\n<p>5 rows × 33 columns</p>\n</div>"
     },
     "execution_count": 12,
     "metadata": {},
     "output_type": "execute_result"
    }
   ],
   "source": [
    "data_demographic = pd.read_csv('path_to/Demographic_Survey.csv')\n",
    "print(\"Size of demographic survey data : {}\" .format(data_demographic.shape) )\n",
    "data_demographic.head()"
   ],
   "metadata": {
    "collapsed": false,
    "ExecuteTime": {
     "start_time": "2023-04-20T14:25:00.391237Z",
     "end_time": "2023-04-20T14:25:00.439491Z"
    }
   }
  },
  {
   "cell_type": "code",
   "execution_count": 13,
   "outputs": [
    {
     "name": "stdout",
     "output_type": "stream",
     "text": [
      "demographic survey data HC: (5581, 33)\n",
      "demographic survey data PD: (1087, 33)\n",
      "Unique subject: (6805,)\n"
     ]
    },
    {
     "data": {
      "text/plain": "                             healthCode   age  deep_brain_stimulation  \\\n0  639e8a78-3631-4231-bda1-c911c1b169e5  24.0                       0   \n1  9295f618-177c-4676-b6aa-dc8419fd37ec  40.0                       2   \n2  52fe366a-2a9f-4260-9fb1-0fbc637a6cf4  38.0                       0   \n3  67bdd316-26fc-4fc7-8431-bf9f41a649dd  32.0                       0   \n4  45b4e2ca-8d15-4736-828c-829e3d4177f4  48.0                       2   \n\n   diagnosis_year  gender  last_smoked  medication_start_year  onset_year  \\\n0             NaN     1.0          NaN                    NaN         NaN   \n1             NaN     1.0          NaN                    NaN         NaN   \n2             NaN     0.0          NaN                    NaN         NaN   \n3             NaN     1.0       2009.0                    NaN         NaN   \n4             NaN     1.0       1991.0                    NaN         NaN   \n\n   packs_per_day  professional_diagnosis  race  smoked  surgery  years_smoking  \n0            NaN                       0   NaN       0        0            NaN  \n1            NaN                       2   NaN       2        2            NaN  \n2            NaN                       0   NaN       0        2            NaN  \n3            1.0                       0   NaN       1        2            8.0  \n4            1.0                       0   NaN       1        2            4.0  ",
      "text/html": "<div>\n<style scoped>\n    .dataframe tbody tr th:only-of-type {\n        vertical-align: middle;\n    }\n\n    .dataframe tbody tr th {\n        vertical-align: top;\n    }\n\n    .dataframe thead th {\n        text-align: right;\n    }\n</style>\n<table border=\"1\" class=\"dataframe\">\n  <thead>\n    <tr style=\"text-align: right;\">\n      <th></th>\n      <th>healthCode</th>\n      <th>age</th>\n      <th>deep_brain_stimulation</th>\n      <th>diagnosis_year</th>\n      <th>gender</th>\n      <th>last_smoked</th>\n      <th>medication_start_year</th>\n      <th>onset_year</th>\n      <th>packs_per_day</th>\n      <th>professional_diagnosis</th>\n      <th>race</th>\n      <th>smoked</th>\n      <th>surgery</th>\n      <th>years_smoking</th>\n    </tr>\n  </thead>\n  <tbody>\n    <tr>\n      <th>0</th>\n      <td>639e8a78-3631-4231-bda1-c911c1b169e5</td>\n      <td>24.0</td>\n      <td>0</td>\n      <td>NaN</td>\n      <td>1.0</td>\n      <td>NaN</td>\n      <td>NaN</td>\n      <td>NaN</td>\n      <td>NaN</td>\n      <td>0</td>\n      <td>NaN</td>\n      <td>0</td>\n      <td>0</td>\n      <td>NaN</td>\n    </tr>\n    <tr>\n      <th>1</th>\n      <td>9295f618-177c-4676-b6aa-dc8419fd37ec</td>\n      <td>40.0</td>\n      <td>2</td>\n      <td>NaN</td>\n      <td>1.0</td>\n      <td>NaN</td>\n      <td>NaN</td>\n      <td>NaN</td>\n      <td>NaN</td>\n      <td>2</td>\n      <td>NaN</td>\n      <td>2</td>\n      <td>2</td>\n      <td>NaN</td>\n    </tr>\n    <tr>\n      <th>2</th>\n      <td>52fe366a-2a9f-4260-9fb1-0fbc637a6cf4</td>\n      <td>38.0</td>\n      <td>0</td>\n      <td>NaN</td>\n      <td>0.0</td>\n      <td>NaN</td>\n      <td>NaN</td>\n      <td>NaN</td>\n      <td>NaN</td>\n      <td>0</td>\n      <td>NaN</td>\n      <td>0</td>\n      <td>2</td>\n      <td>NaN</td>\n    </tr>\n    <tr>\n      <th>3</th>\n      <td>67bdd316-26fc-4fc7-8431-bf9f41a649dd</td>\n      <td>32.0</td>\n      <td>0</td>\n      <td>NaN</td>\n      <td>1.0</td>\n      <td>2009.0</td>\n      <td>NaN</td>\n      <td>NaN</td>\n      <td>1.0</td>\n      <td>0</td>\n      <td>NaN</td>\n      <td>1</td>\n      <td>2</td>\n      <td>8.0</td>\n    </tr>\n    <tr>\n      <th>4</th>\n      <td>45b4e2ca-8d15-4736-828c-829e3d4177f4</td>\n      <td>48.0</td>\n      <td>2</td>\n      <td>NaN</td>\n      <td>1.0</td>\n      <td>1991.0</td>\n      <td>NaN</td>\n      <td>NaN</td>\n      <td>1.0</td>\n      <td>0</td>\n      <td>NaN</td>\n      <td>1</td>\n      <td>2</td>\n      <td>4.0</td>\n    </tr>\n  </tbody>\n</table>\n</div>"
     },
     "execution_count": 13,
     "metadata": {},
     "output_type": "execute_result"
    }
   ],
   "source": [
    "# replace - by _ and fix bug\n",
    "column_names = ['ROW_ID','ROW_VERSION','recordId','healthCode','createdOn','appVersion','phoneInfo','age','are_caretaker','deep_brain_stimulation','diagnosis_year','education','employment','gender','health_history','healthcare_provider','home_usage','last_smoked','maritalStatus','medical_usage','medical_usage_yesterday','medication_start_year','onset_year','packs_per_day','past_participation','phone_usage','professional_diagnosis','race','smartphone','smoked','surgery','video_usage','years_smoking']\n",
    "data_demographic.columns = column_names\n",
    "\n",
    "# Encode and map columns\n",
    "data_demographic['deep_brain_stimulation'] = data_demographic['deep_brain_stimulation'].fillna(2).astype(int) #NaN = 2, True =1, False = 0\n",
    "data_demographic['surgery'] = data_demographic['surgery'].fillna(2).astype(int)\n",
    "data_demographic['smoked'] = data_demographic['smoked'].fillna(2).astype(int)\n",
    "data_demographic['professional_diagnosis'] = data_demographic['professional_diagnosis'].fillna(2).astype(int)\n",
    "data_HC = data_demographic[data_demographic.professional_diagnosis== 0]\n",
    "data_PD = data_demographic[data_demographic.professional_diagnosis == 1]\n",
    "print(\"demographic survey data HC: {}\" .format(data_HC.shape) )\n",
    "print(\"demographic survey data PD: {}\" .format(data_PD.shape) )\n",
    "data_demographic.gender = data_demographic['gender'].map({'Female': 0, 'Male':1, 'Prefer not to answer': 2})\n",
    "data_demographic.race = data_demographic['race'].map({\"Black or African\": 0, \"Latino/Hispanic\": 1, \"Native American\": 2, \"Pacific Islander\": 3, \"Middle Eastern\": 4, \"Caribbean\": 5, \"South Asian\": 6, \"East Asian\": 7, \"White or Caucasian\": 8, \"Mixed\": 9})\n",
    "data_demographic_drop = data_demographic.drop(['ROW_ID','ROW_VERSION','recordId','createdOn','appVersion','phoneInfo','are_caretaker','education','employment','health_history','healthcare_provider','home_usage','maritalStatus','medical_usage','medical_usage_yesterday','past_participation','phone_usage','smartphone','video_usage'], axis=1)\n",
    "uniquesubj = data_demographic_drop['healthCode'].unique()\n",
    "print(\"Unique subject: {}\" .format(uniquesubj.shape) )\n",
    "data_demographic_drop.head()"
   ],
   "metadata": {
    "collapsed": false,
    "ExecuteTime": {
     "start_time": "2023-04-20T14:25:01.003463Z",
     "end_time": "2023-04-20T14:25:01.048527Z"
    }
   }
  },
  {
   "cell_type": "markdown",
   "source": [
    "# =============================\n",
    "# Load mPower meta treatment time data \n",
    "# ============================="
   ],
   "metadata": {
    "collapsed": false
   }
  },
  {
   "cell_type": "code",
   "execution_count": 14,
   "outputs": [
    {
     "name": "stdout",
     "output_type": "stream",
     "text": [
      "Size meta data medicine time: (65022, 10)\n",
      "Unique subject: (5826,)\n",
      "Unique record: (65022,)\n"
     ]
    },
    {
     "data": {
      "text/plain": "                               recordId                            healthCode  \\\n0  177d6c17-6635-4884-8481-a671fca06266  639e8a78-3631-4231-bda1-c911c1b169e5   \n1  d59f922b-3ab9-4105-be30-4c2c481e99ed  52fe366a-2a9f-4260-9fb1-0fbc637a6cf4   \n2  0e85415c-75ee-45d2-8d38-ac7b2c8c5c50  67bdd316-26fc-4fc7-8431-bf9f41a649dd   \n3  40a9e3a9-1518-4f3f-a9a3-0715233c42a7  45b4e2ca-8d15-4736-828c-829e3d4177f4   \n4  e3b8f800-2c0d-4b42-ba44-f940464dd7b5  45b4e2ca-8d15-4736-828c-829e3d4177f4   \n\n   audio_audio.m4a  medTimepoint  \n0          5404521           0.0  \n1          5410381           0.0  \n2          5390859           0.0  \n3          5701183           0.0  \n4          5750379           0.0  ",
      "text/html": "<div>\n<style scoped>\n    .dataframe tbody tr th:only-of-type {\n        vertical-align: middle;\n    }\n\n    .dataframe tbody tr th {\n        vertical-align: top;\n    }\n\n    .dataframe thead th {\n        text-align: right;\n    }\n</style>\n<table border=\"1\" class=\"dataframe\">\n  <thead>\n    <tr style=\"text-align: right;\">\n      <th></th>\n      <th>recordId</th>\n      <th>healthCode</th>\n      <th>audio_audio.m4a</th>\n      <th>medTimepoint</th>\n    </tr>\n  </thead>\n  <tbody>\n    <tr>\n      <th>0</th>\n      <td>177d6c17-6635-4884-8481-a671fca06266</td>\n      <td>639e8a78-3631-4231-bda1-c911c1b169e5</td>\n      <td>5404521</td>\n      <td>0.0</td>\n    </tr>\n    <tr>\n      <th>1</th>\n      <td>d59f922b-3ab9-4105-be30-4c2c481e99ed</td>\n      <td>52fe366a-2a9f-4260-9fb1-0fbc637a6cf4</td>\n      <td>5410381</td>\n      <td>0.0</td>\n    </tr>\n    <tr>\n      <th>2</th>\n      <td>0e85415c-75ee-45d2-8d38-ac7b2c8c5c50</td>\n      <td>67bdd316-26fc-4fc7-8431-bf9f41a649dd</td>\n      <td>5390859</td>\n      <td>0.0</td>\n    </tr>\n    <tr>\n      <th>3</th>\n      <td>40a9e3a9-1518-4f3f-a9a3-0715233c42a7</td>\n      <td>45b4e2ca-8d15-4736-828c-829e3d4177f4</td>\n      <td>5701183</td>\n      <td>0.0</td>\n    </tr>\n    <tr>\n      <th>4</th>\n      <td>e3b8f800-2c0d-4b42-ba44-f940464dd7b5</td>\n      <td>45b4e2ca-8d15-4736-828c-829e3d4177f4</td>\n      <td>5750379</td>\n      <td>0.0</td>\n    </tr>\n  </tbody>\n</table>\n</div>"
     },
     "execution_count": 14,
     "metadata": {},
     "output_type": "execute_result"
    }
   ],
   "source": [
    "data_med_time=pd.read_csv('path_to/meta_treatmenttime.csv')\n",
    "print(\"Size meta data medicine time: {}\" .format(data_med_time.shape) )\n",
    "data_med_time.columns = ['ROW_ID','ROW_VERSION','recordId','healthCode','createdOn','appVersion','phoneInfo','audio_audio.m4a','audio_countdown.m4a','medTimepoint']\n",
    "data_med_time_drop = data_med_time.drop(['ROW_ID','ROW_VERSION','createdOn','appVersion','phoneInfo','audio_countdown.m4a'], axis=1)\n",
    "data_med_time_drop['medTimepoint'] = data_med_time_drop['medTimepoint'].fillna(2)\n",
    "data_med_time_drop.medTimepoint = data_med_time_drop['medTimepoint'].map({\"I don't take Parkinson medications\": 0, 'Another time':1, 'Immediately before Parkinson medication': 3, 'Just after Parkinson medication (at your best)':4})\n",
    "uniquesubj = data_med_time_drop['healthCode'].unique()\n",
    "print(\"Unique subject: {}\" .format(uniquesubj.shape) )\n",
    "uniquerec = data_med_time_drop['recordId'].unique()\n",
    "print(\"Unique record: {}\" .format(uniquerec.shape) )\n",
    "data_med_time_drop.head()"
   ],
   "metadata": {
    "collapsed": false,
    "ExecuteTime": {
     "start_time": "2023-04-20T14:25:01.671232Z",
     "end_time": "2023-04-20T14:25:01.759843Z"
    }
   }
  },
  {
   "cell_type": "code",
   "execution_count": 15,
   "outputs": [
    {
     "name": "stdout",
     "output_type": "stream",
     "text": [
      "Unique subject: (5044,)\n",
      "Unique record: (63255,)\n",
      "meta data sample HC: (23460, 17)\n",
      "meta data sample PD: (39388, 17)\n"
     ]
    },
    {
     "data": {
      "text/plain": "                               recordId                            healthCode  \\\n0  177d6c17-6635-4884-8481-a671fca06266  639e8a78-3631-4231-bda1-c911c1b169e5   \n1  d59f922b-3ab9-4105-be30-4c2c481e99ed  52fe366a-2a9f-4260-9fb1-0fbc637a6cf4   \n2  5c3b56ea-2a8a-4a9b-9d04-271928ff7044  52fe366a-2a9f-4260-9fb1-0fbc637a6cf4   \n3  9a3d4bd0-a6a6-4218-a442-4bdf4785e953  52fe366a-2a9f-4260-9fb1-0fbc637a6cf4   \n4  0e85415c-75ee-45d2-8d38-ac7b2c8c5c50  67bdd316-26fc-4fc7-8431-bf9f41a649dd   \n\n   audio_audio.m4a  medTimepoint   age  deep_brain_stimulation  \\\n0          5404521           0.0  24.0                       0   \n1          5410381           0.0  38.0                       0   \n2          5773552           0.0  38.0                       0   \n3          5805736           0.0  38.0                       0   \n4          5390859           0.0  32.0                       0   \n\n   diagnosis_year  gender  last_smoked  medication_start_year  onset_year  \\\n0             NaN     1.0          NaN                    NaN         NaN   \n1             NaN     0.0          NaN                    NaN         NaN   \n2             NaN     0.0          NaN                    NaN         NaN   \n3             NaN     0.0          NaN                    NaN         NaN   \n4             NaN     1.0       2009.0                    NaN         NaN   \n\n   packs_per_day  professional_diagnosis  race  smoked  surgery  years_smoking  \n0            NaN                       0   NaN       0        0            NaN  \n1            NaN                       0   NaN       0        2            NaN  \n2            NaN                       0   NaN       0        2            NaN  \n3            NaN                       0   NaN       0        2            NaN  \n4            1.0                       0   NaN       1        2            8.0  ",
      "text/html": "<div>\n<style scoped>\n    .dataframe tbody tr th:only-of-type {\n        vertical-align: middle;\n    }\n\n    .dataframe tbody tr th {\n        vertical-align: top;\n    }\n\n    .dataframe thead th {\n        text-align: right;\n    }\n</style>\n<table border=\"1\" class=\"dataframe\">\n  <thead>\n    <tr style=\"text-align: right;\">\n      <th></th>\n      <th>recordId</th>\n      <th>healthCode</th>\n      <th>audio_audio.m4a</th>\n      <th>medTimepoint</th>\n      <th>age</th>\n      <th>deep_brain_stimulation</th>\n      <th>diagnosis_year</th>\n      <th>gender</th>\n      <th>last_smoked</th>\n      <th>medication_start_year</th>\n      <th>onset_year</th>\n      <th>packs_per_day</th>\n      <th>professional_diagnosis</th>\n      <th>race</th>\n      <th>smoked</th>\n      <th>surgery</th>\n      <th>years_smoking</th>\n    </tr>\n  </thead>\n  <tbody>\n    <tr>\n      <th>0</th>\n      <td>177d6c17-6635-4884-8481-a671fca06266</td>\n      <td>639e8a78-3631-4231-bda1-c911c1b169e5</td>\n      <td>5404521</td>\n      <td>0.0</td>\n      <td>24.0</td>\n      <td>0</td>\n      <td>NaN</td>\n      <td>1.0</td>\n      <td>NaN</td>\n      <td>NaN</td>\n      <td>NaN</td>\n      <td>NaN</td>\n      <td>0</td>\n      <td>NaN</td>\n      <td>0</td>\n      <td>0</td>\n      <td>NaN</td>\n    </tr>\n    <tr>\n      <th>1</th>\n      <td>d59f922b-3ab9-4105-be30-4c2c481e99ed</td>\n      <td>52fe366a-2a9f-4260-9fb1-0fbc637a6cf4</td>\n      <td>5410381</td>\n      <td>0.0</td>\n      <td>38.0</td>\n      <td>0</td>\n      <td>NaN</td>\n      <td>0.0</td>\n      <td>NaN</td>\n      <td>NaN</td>\n      <td>NaN</td>\n      <td>NaN</td>\n      <td>0</td>\n      <td>NaN</td>\n      <td>0</td>\n      <td>2</td>\n      <td>NaN</td>\n    </tr>\n    <tr>\n      <th>2</th>\n      <td>5c3b56ea-2a8a-4a9b-9d04-271928ff7044</td>\n      <td>52fe366a-2a9f-4260-9fb1-0fbc637a6cf4</td>\n      <td>5773552</td>\n      <td>0.0</td>\n      <td>38.0</td>\n      <td>0</td>\n      <td>NaN</td>\n      <td>0.0</td>\n      <td>NaN</td>\n      <td>NaN</td>\n      <td>NaN</td>\n      <td>NaN</td>\n      <td>0</td>\n      <td>NaN</td>\n      <td>0</td>\n      <td>2</td>\n      <td>NaN</td>\n    </tr>\n    <tr>\n      <th>3</th>\n      <td>9a3d4bd0-a6a6-4218-a442-4bdf4785e953</td>\n      <td>52fe366a-2a9f-4260-9fb1-0fbc637a6cf4</td>\n      <td>5805736</td>\n      <td>0.0</td>\n      <td>38.0</td>\n      <td>0</td>\n      <td>NaN</td>\n      <td>0.0</td>\n      <td>NaN</td>\n      <td>NaN</td>\n      <td>NaN</td>\n      <td>NaN</td>\n      <td>0</td>\n      <td>NaN</td>\n      <td>0</td>\n      <td>2</td>\n      <td>NaN</td>\n    </tr>\n    <tr>\n      <th>4</th>\n      <td>0e85415c-75ee-45d2-8d38-ac7b2c8c5c50</td>\n      <td>67bdd316-26fc-4fc7-8431-bf9f41a649dd</td>\n      <td>5390859</td>\n      <td>0.0</td>\n      <td>32.0</td>\n      <td>0</td>\n      <td>NaN</td>\n      <td>1.0</td>\n      <td>2009.0</td>\n      <td>NaN</td>\n      <td>NaN</td>\n      <td>1.0</td>\n      <td>0</td>\n      <td>NaN</td>\n      <td>1</td>\n      <td>2</td>\n      <td>8.0</td>\n    </tr>\n  </tbody>\n</table>\n</div>"
     },
     "execution_count": 15,
     "metadata": {},
     "output_type": "execute_result"
    }
   ],
   "source": [
    "# merge data demographic and med time point\n",
    "data_meta = pd.merge(data_med_time_drop,data_demographic_drop, on='healthCode')\n",
    "uniquesubj = data_meta['healthCode'].unique()\n",
    "print(\"Unique subject: {}\" .format(uniquesubj.shape) )\n",
    "uniquerec = data_meta['recordId'].unique()\n",
    "print(\"Unique record: {}\" .format(uniquerec.shape) )\n",
    "data_meta_HC = data_meta[data_meta.professional_diagnosis== 0]\n",
    "data_meta_PD = data_meta[data_meta.professional_diagnosis == 1]\n",
    "label = data_meta['professional_diagnosis']\n",
    "print(\"meta data sample HC: {}\" .format(data_meta_HC.shape) )\n",
    "print(\"meta data sample PD: {}\" .format(data_meta_PD.shape) )\n",
    "data_meta.head()\n",
    "# recordIds are different in two data. in demo each task is the demo survey, in voice ech task is a voice recording"
   ],
   "metadata": {
    "collapsed": false,
    "ExecuteTime": {
     "start_time": "2023-04-20T14:25:03.827184Z",
     "end_time": "2023-04-20T14:25:03.940558Z"
    }
   }
  },
  {
   "cell_type": "code",
   "execution_count": 6,
   "outputs": [],
   "source": [
    "# save database\n",
    "data_meta.to_csv('Data_meta_mpower.csv', index=False)"
   ],
   "metadata": {
    "collapsed": false
   }
  },
  {
   "cell_type": "code",
   "execution_count": 21,
   "outputs": [
    {
     "name": "stdout",
     "output_type": "stream",
     "text": [
      "meta data HC: (5581, 33)\n",
      "meta data PD: (1087, 33)\n",
      "Unique diagnosis: [False nan True]\n",
      "Unique subject: (6805,)\n",
      "Unique rec: (6805,)\n",
      "Unique years smoking: [nan  8.  4.  0.  3. 20. 15. 18.  5.  6.  1. 12. 26.  7. 30. 23.  9. 21.\n",
      "  2. 10. 35. 14. 19. 33. 24. 16. 25. 11. 13. 40. 28. 27. 17. 22. 55. 45.\n",
      " 32. 50. 42. 29. 34. 75. 36. 48. 52.]\n",
      "Unique smoke: [False nan True]\n",
      "Unique year onset: [  nan 2010. 2007. 2013. 2011. 1999. 2012. 1900. 2006. 2015. 2009. 2014.\n",
      " 2005. 2000. 1997. 2002. 2008. 1978. 1969. 2001. 1994. 2003. 1995. 1921.\n",
      " 1992. 2004. 1998. 1982. 1987. 1988. 1990. 1989. 1993. 1984. 1996. 1975.\n",
      " 1926. 1980. 1991. 1932. 1968. 1985. 1979. 1981. 1974. 1966. 1962.]\n",
      "Unique year medication start: [      nan 0.000e+00 2.008e+03 2.014e+03 2.015e+03 1.999e+03 2.007e+03\n",
      " 2.011e+03 2.010e+03 2.012e+03 2.013e+03 2.004e+03 2.003e+03 2.005e+03\n",
      " 5.000e+01 2.006e+03 2.009e+03 2.002e+03 2.000e+00 2.000e+03 1.993e+03\n",
      " 1.912e+03 1.996e+03 1.998e+03 4.000e+00 1.995e+03 1.000e+00 1.997e+03\n",
      " 2.001e+03 1.965e+03 3.000e+00 1.985e+03 1.900e+03 2.050e+02 1.992e+03\n",
      " 1.990e+03 1.987e+03 1.979e+03 1.975e+03 1.994e+03 8.000e+00 2.000e+01\n",
      " 1.946e+03 1.986e+03]\n",
      "Unique year diagnosis: [  nan 2008. 2014. 2010. 1999. 1990. 2007. 2011. 2009. 2015. 2013. 2004.\n",
      " 2000. 1976. 2001. 2005. 2006. 2012. 2002. 1900. 1993. 1994. 1998. 2003.\n",
      " 1929. 1992. 1995. 1996. 1997. 1952. 1918. 1982. 1985. 1984. 1987. 1965.\n",
      " 1975. 1966. 1986.]\n",
      "Unique health history: ['\"Asthma\"' nan '\"Depression\",\"Urinary Tract infections\"' ...\n",
      " '\"Anxiety\",\"Depression\",\"Diabetes or Pre-diabetes or High Blood Sugar\",\"High Blood Pressure/Hypertension\",\"Obstructive Sleep Apnea\",\"Urinary Tract infections\"'\n",
      " '\"Anxiety\",\"Cataract\",\"High Blood Pressure/Hypertension\"'\n",
      " '\"Cancer OR tumor (see specific types of cancer in list)\"']\n"
     ]
    }
   ],
   "source": [
    "uniquediag = data_demographic['professional_diagnosis'].unique()\n",
    "print(\"Unique diagnosis: {}\" .format(uniquediag) )\n",
    "uniquesubj = data_demographic['healthCode'].unique()\n",
    "print(\"Unique subject: {}\" .format(uniquesubj.shape) )\n",
    "uniquerec = data_demographic['recordId'].unique()\n",
    "print(\"Unique rec: {}\" .format(uniquerec.shape) )\n",
    "uniqueyearssmoke = data_demographic['years_smoking'].unique()\n",
    "print(\"Unique years smoking: {}\" .format(uniqueyearssmoke) )\n",
    "uniquesmoke = data_demographic['smoked'].unique()\n",
    "print(\"Unique smoke: {}\" .format(uniquesmoke ))\n",
    "uniqueyearonset = data_demographic['onset_year'].unique()\n",
    "print(\"Unique year onset: {}\" .format(uniqueyearonset) )\n",
    "uniqueyearstartmed = data_demographic['medication_start_year'].unique()\n",
    "print(\"Unique year medication start: {}\" .format(uniqueyearstartmed) )\n",
    "uniqueyeardiag = data_demographic['diagnosis_year'].unique()\n",
    "print(\"Unique year diagnosis: {}\" .format(uniqueyeardiag) )\n",
    "uniquehealth = data_demographic['health_history'].unique()\n",
    "print(\"Unique health history: {}\" .format(uniquehealth) )"
   ],
   "metadata": {
    "collapsed": false
   }
  }
 ],
 "metadata": {
  "kernelspec": {
   "display_name": "Python 3",
   "language": "python",
   "name": "python3"
  },
  "language_info": {
   "codemirror_mode": {
    "name": "ipython",
    "version": 2
   },
   "file_extension": ".py",
   "mimetype": "text/x-python",
   "name": "python",
   "nbconvert_exporter": "python",
   "pygments_lexer": "ipython2",
   "version": "2.7.6"
  }
 },
 "nbformat": 4,
 "nbformat_minor": 0
}
