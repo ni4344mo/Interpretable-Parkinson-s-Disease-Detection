{
 "cells": [
  {
   "cell_type": "code",
   "execution_count": 10,
   "outputs": [],
   "source": [
    "# Searches for .tmp files inside a nested directory (Synapse_all).\n",
    "# Copies the first .tmp file found from each subdirectory to destination_path_to_data as .m4a.\n",
    "# Logs the copied file paths into tmp.csv.\n",
    "\n",
    "import os, shutil, csv\n",
    "\n",
    "names = []\n",
    "\n",
    "dest = \"destination_path_to_data\"\n",
    "d = 'path_to/data/Synapse_all'\n",
    "A = [os.path.join(d, o) for o in os.listdir(d)\n",
    "                    if os.path.isdir(os.path.join(d,o))]\n",
    "for i in range(len(A)):\n",
    "    A1 = [os.path.join(A[i], o) for o in os.listdir(A[i])\n",
    "                    if os.path.isdir(os.path.join(A[i],o))]\n",
    "    A1_names = [o for o in os.listdir(A[i])\n",
    "                    if os.path.isdir(os.path.join(A[i],o))]\n",
    "\n",
    "    for i1 in range(len(A1)):\n",
    "        A2 = [os.path.join(A1[i1], f) for f in os.listdir(A1[i1]) if f.endswith('.tmp')]\n",
    "        if len(A2) != 0:\n",
    "            shutil.copy(A2[0],dest+'/'+A1_names[i1]+'.m4a')\n",
    "            names.append(A2)\n",
    "\n",
    "# Code to save the folder structure for future reference\n",
    "# An empty csv file 'tmp.csv' has to be created before running this code\n",
    "csvfile = \"path_to/data/tmp.csv\"\n",
    "\n",
    "#Assuming res is a flat list\n",
    "with open(csvfile, \"w\") as output:\n",
    "    writer = csv.writer(output, lineterminator='\\n')\n",
    "    for val in names:\n",
    "        writer.writerow([val])"
   ],
   "metadata": {
    "collapsed": false
   }
  },
  {
   "cell_type": "code",
   "execution_count": 4,
   "outputs": [
    {
     "name": "stdout",
     "output_type": "stream",
     "text": [
      "Found 1000 folders\n"
     ]
    }
   ],
   "source": [
    "path = 'path_to/data/Synapse_all'\n",
    "# count number of a type json recording files\n",
    "count = 0\n",
    "with os.scandir(path) as entries:\n",
    "        for entry in entries:\n",
    "            count += 1\n",
    "            with os.scandir(entry.path) as sub_entries:\n",
    "                for sub_entry in sub_entries:\n",
    "                    name = sub_entry.name\n",
    "            # if \"_a_\" in entry.name:\n",
    "            #     count += 1\n",
    "print('Found {} folders'.format(count))"
   ],
   "metadata": {
    "collapsed": false
   }
  },
  {
   "cell_type": "code",
   "execution_count": 7,
   "outputs": [
    {
     "data": {
      "text/plain": "'494'"
     },
     "execution_count": 7,
     "metadata": {},
     "output_type": "execute_result"
    }
   ],
   "source": [
    "os.path.basename(entry)"
   ],
   "metadata": {
    "collapsed": false
   }
  },
  {
   "cell_type": "code",
   "execution_count": null,
   "outputs": [],
   "source": [
    "[x[0] for x in os.walk(path)]"
   ],
   "metadata": {
    "collapsed": false
   }
  },
  {
   "cell_type": "code",
   "execution_count": null,
   "outputs": [],
   "source": [],
   "metadata": {
    "collapsed": false
   }
  }
 ],
 "metadata": {
  "kernelspec": {
   "display_name": "Python 3",
   "language": "python",
   "name": "python3"
  },
  "language_info": {
   "codemirror_mode": {
    "name": "ipython",
    "version": 2
   },
   "file_extension": ".py",
   "mimetype": "text/x-python",
   "name": "python",
   "nbconvert_exporter": "python",
   "pygments_lexer": "ipython2",
   "version": "2.7.6"
  }
 },
 "nbformat": 4,
 "nbformat_minor": 0
}
