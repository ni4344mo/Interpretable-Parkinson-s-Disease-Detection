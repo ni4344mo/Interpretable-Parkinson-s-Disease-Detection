{
 "cells": [
  {
   "cell_type": "code",
   "execution_count": 11,
   "metadata": {
    "collapsed": true
   },
   "outputs": [
    {
     "name": "stderr",
     "output_type": "stream",
     "text": [
      "\n",
      "UPGRADE AVAILABLE\n",
      "\n",
      "A more recent version of the Synapse Client (2.7.0) is available. Your version (2.6.0) can be upgraded by typing:\n",
      "    pip install --upgrade synapseclient\n",
      "\n",
      "Python Synapse Client version 2.7.0 release notes\n",
      "\n",
      "https://python-docs.synapse.org/build/html/news.html\n",
      "\n"
     ]
    },
    {
     "name": "stdout",
     "output_type": "stream",
     "text": [
      "Welcome, Niloofar Momeni!\n"
     ]
    }
   ],
   "source": [
    "import synapseclient\n",
    "syn = synapseclient.Synapse()\n",
    "syn.login('user', 'pass')\n",
    "entity = syn.get(\"syn5511444 \")"
   ]
  },
  {
   "cell_type": "code",
   "execution_count": null,
   "outputs": [],
   "source": [
    "for offset in range(0,65000,500):\n",
    "    results = syn.tableQuery('SELECT * FROM syn5511444 LIMIT 500 OFFSET '+str(offset))\n",
    "    file_map = syn.downloadTableColumns(results,['audio_audio.m4a'], downloadLocation='path_to/data/Synapse')"
   ],
   "metadata": {
    "collapsed": false
   }
  },
  {
   "cell_type": "code",
   "execution_count": 4,
   "outputs": [
    {
     "name": "stdout",
     "output_type": "stream",
     "text": [
      "Downloading 122 files, 0 cached locally\n"
     ]
    }
   ],
   "source": [
    "results = syn.tableQuery('SELECT * FROM syn5511444 LIMIT 500 OFFSET '+str(64900))\n",
    "file_map = syn.downloadTableColumns(results,['audio_audio.m4a'])"
   ],
   "metadata": {
    "collapsed": false
   }
  },
  {
   "cell_type": "code",
   "execution_count": 6,
   "outputs": [
    {
     "data": {
      "text/plain": "           healthCode\n72137_9    healthCode\n72138_9    healthCode\n72139_9    healthCode\n72140_9    healthCode\n72141_9    healthCode\n...               ...\n137154_15  healthCode\n137155_15  healthCode\n137156_15  healthCode\n137157_15  healthCode\n137158_15  healthCode\n\n[65022 rows x 1 columns]",
      "text/html": "<div>\n<style scoped>\n    .dataframe tbody tr th:only-of-type {\n        vertical-align: middle;\n    }\n\n    .dataframe tbody tr th {\n        vertical-align: top;\n    }\n\n    .dataframe thead th {\n        text-align: right;\n    }\n</style>\n<table border=\"1\" class=\"dataframe\">\n  <thead>\n    <tr style=\"text-align: right;\">\n      <th></th>\n      <th>healthCode</th>\n    </tr>\n  </thead>\n  <tbody>\n    <tr>\n      <th>72137_9</th>\n      <td>healthCode</td>\n    </tr>\n    <tr>\n      <th>72138_9</th>\n      <td>healthCode</td>\n    </tr>\n    <tr>\n      <th>72139_9</th>\n      <td>healthCode</td>\n    </tr>\n    <tr>\n      <th>72140_9</th>\n      <td>healthCode</td>\n    </tr>\n    <tr>\n      <th>72141_9</th>\n      <td>healthCode</td>\n    </tr>\n    <tr>\n      <th>...</th>\n      <td>...</td>\n    </tr>\n    <tr>\n      <th>137154_15</th>\n      <td>healthCode</td>\n    </tr>\n    <tr>\n      <th>137155_15</th>\n      <td>healthCode</td>\n    </tr>\n    <tr>\n      <th>137156_15</th>\n      <td>healthCode</td>\n    </tr>\n    <tr>\n      <th>137157_15</th>\n      <td>healthCode</td>\n    </tr>\n    <tr>\n      <th>137158_15</th>\n      <td>healthCode</td>\n    </tr>\n  </tbody>\n</table>\n<p>65022 rows × 1 columns</p>\n</div>"
     },
     "execution_count": 6,
     "metadata": {},
     "output_type": "execute_result"
    }
   ],
   "source": [
    "query = syn.tableQuery(\"SELECT 'healthCode' FROM syn5511444\")\n",
    "query.asDataFrame()"
   ],
   "metadata": {
    "collapsed": false
   }
  },
  {
   "cell_type": "code",
   "execution_count": 7,
   "outputs": [],
   "source": [
    "import synapseutils"
   ],
   "metadata": {
    "collapsed": false
   }
  },
  {
   "cell_type": "code",
   "execution_count": null,
   "outputs": [],
   "source": [
    "# download all the files in folder syn123 to a local folder called \"myFolder\"\n",
    "all_files = synapseutils.syncFromSynapse(syn, entity='syn5511444', path='path_to/data/Synapse4')"
   ],
   "metadata": {
    "collapsed": false
   }
  },
  {
   "cell_type": "code",
   "execution_count": 10,
   "outputs": [],
   "source": [
    "linkEnt = syn.get(\"syn5511444\")"
   ],
   "metadata": {
    "collapsed": false
   }
  },
  {
   "cell_type": "code",
   "execution_count": null,
   "outputs": [],
   "source": [],
   "metadata": {
    "collapsed": false
   }
  }
 ],
 "metadata": {
  "kernelspec": {
   "display_name": "Python 3",
   "language": "python",
   "name": "python3"
  },
  "language_info": {
   "codemirror_mode": {
    "name": "ipython",
    "version": 2
   },
   "file_extension": ".py",
   "mimetype": "text/x-python",
   "name": "python",
   "nbconvert_exporter": "python",
   "pygments_lexer": "ipython2",
   "version": "2.7.6"
  }
 },
 "nbformat": 4,
 "nbformat_minor": 0
}
