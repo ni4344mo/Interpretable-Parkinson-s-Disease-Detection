{
 "cells": [
  {
   "cell_type": "code",
   "execution_count": 1,
   "id": "2dfc64896c4bba19",
   "metadata": {
    "collapsed": true,
    "ExecuteTime": {
     "end_time": "2025-01-21T10:06:33.236872937Z",
     "start_time": "2025-01-21T10:06:33.174696222Z"
    }
   },
   "outputs": [],
   "source": [
    "import importlib\n",
    "import read_data\n",
    "import Anomaly\n",
    "import pandas as pd"
   ]
  },
  {
   "cell_type": "markdown",
   "source": [
    "# =============================\n",
    "# Load mPower data with emobase features \n",
    "# ============================="
   ],
   "metadata": {
    "collapsed": false
   },
   "id": "fef8ab4ca0ce9ba"
  },
  {
   "cell_type": "code",
   "execution_count": 2,
   "outputs": [],
   "source": [
    "# Reload custom functions to reflect changes during runtime\n",
    "importlib.reload(read_data)\n",
    "importlib.reload(Anomaly)\n",
    "# Load preprocessed mPower dataset with emobase features\n",
    "data = read_data.read_mPower16knorm_emobase()\n",
    "# Drop the 'medTimepoint' column as it's not needed for further analysis\n",
    "data = data.drop(['medTimepoint'], axis=1)"
   ],
   "metadata": {
    "collapsed": false,
    "ExecuteTime": {
     "end_time": "2025-01-21T10:06:39.952368726Z",
     "start_time": "2025-01-21T10:06:34.736854577Z"
    }
   },
   "id": "initial_id"
  },
  {
   "cell_type": "code",
   "execution_count": 3,
   "outputs": [
    {
     "name": "stdout",
     "output_type": "stream",
     "text": [
      "Filtered data size : (30440, 992)\n",
      "All data\n",
      "Total Size: 62963, Subject Size: 4989\n",
      "HC - Sample Size: 23279, Subject Size: 3952\n",
      "PD - Sample Size: 39308, Subject Size: 965\n",
      "HC Female - Sample Size: 4233, Subject Size: 747\n",
      "HC Male - Sample Size: 19046, Subject Size: 3205\n",
      "PD Female - Sample Size: 18284, Subject Size: 336\n",
      "PD Male - Sample Size: 21024, Subject Size: 629\n",
      "\n",
      "\n",
      "Filtered data: Removed frequent recordings\n",
      "Total Size: 30440, Subject Size: 3969\n",
      "HC - Sample Size: 17673, Subject Size: 3048\n",
      "PD - Sample Size: 12453, Subject Size: 863\n",
      "HC Female - Sample Size: 3488, Subject Size: 578\n",
      "HC Male - Sample Size: 14185, Subject Size: 2470\n",
      "PD Female - Sample Size: 4865, Subject Size: 307\n",
      "PD Male - Sample Size: 7588, Subject Size: 556\n"
     ]
    }
   ],
   "source": [
    "# Import filtering function\n",
    "import Filter_record\n",
    "importlib.reload(Filter_record)\n",
    "# Apply filtering: Remove frequent recordings (keep only between 1 and 30 recordings per subject)\n",
    "filt_data = Filter_record.rec(data, 1, 30)\n",
    "\n",
    "# Import data printing function\n",
    "# Print original and filtered data\n",
    "import Print_data\n",
    "importlib.reload(Print_data)\n",
    "print('All data')\n",
    "Print_data.printdata(data)\n",
    "print('\\n')\n",
    "print('Filtered data: Removed frequent recordings')\n",
    "Print_data.printdata(filt_data)"
   ],
   "metadata": {
    "collapsed": false,
    "ExecuteTime": {
     "end_time": "2025-01-21T10:06:40.659114754Z",
     "start_time": "2025-01-21T10:06:39.953449271Z"
    }
   },
   "id": "11cb6ce7db1583de"
  },
  {
   "cell_type": "code",
   "execution_count": null,
   "outputs": [],
   "source": [
    "# Import age and gender grouping custom function\n",
    "import Group_age_gender\n",
    "importlib.reload(Group_age_gender)\n",
    "# Split data into three age groups: Young (<35), Mid (35-55), Old (>55)\n",
    "data_young, data_mid, data_old = Group_age_gender.age3(filt_data, 35, 55)"
   ],
   "metadata": {
    "collapsed": false
   },
   "id": "4381123e5ebd851c"
  },
  {
   "cell_type": "code",
   "execution_count": 5,
   "outputs": [
    {
     "name": "stdout",
     "output_type": "stream",
     "text": [
      "Young\n",
      "  Set Condition Gender  Sample Size  Subject Size\n",
      "Train        HC Female         1259           241\n",
      "Train        HC   Male         5620          1160\n",
      "Train        PD Female            8             2\n",
      "Train        PD   Male           49            12\n",
      " Test        HC Female          662           129\n",
      " Test        HC   Male         2226           473\n",
      " Test        PD Female            2             1\n",
      " Test        PD   Male           14             4\n",
      "Mid\n",
      "  Set Condition Gender  Sample Size  Subject Size\n",
      "Train        HC Female          742            98\n",
      "Train        HC   Male         2835           436\n",
      "Train        PD Female          411            41\n",
      "Train        PD   Male         1060            92\n",
      " Test        HC Female          256            45\n",
      " Test        HC   Male         1178           175\n",
      " Test        PD Female          239            21\n",
      " Test        PD   Male          593            45\n",
      "Old\n",
      "  Set Condition Gender  Sample Size  Subject Size\n",
      "Train        HC Female          452            51\n",
      "Train        HC   Male         1541           165\n",
      "Train        PD Female         2897           166\n",
      "Train        PD   Male         4091           273\n",
      " Test        HC Female          117            14\n",
      " Test        HC   Male          785            61\n",
      " Test        PD Female         1308            76\n",
      " Test        PD   Male         1781           130\n"
     ]
    }
   ],
   "source": [
    "# Import train-test splitting function\n",
    "import Train_Test\n",
    "importlib.reload(Train_Test)\n",
    "# Perform train-test split for each age group\n",
    "print('Young')\n",
    "data_train_young, data_test_young = Train_Test.split_and_print2(data_young)\n",
    "\n",
    "print('Mid')\n",
    "data_train_mid, data_test_mid = Train_Test.split_and_print2(data_mid)\n",
    "\n",
    "print('Old')\n",
    "data_train_old, data_test_old = Train_Test.split_and_print2(data_old)"
   ],
   "metadata": {
    "collapsed": false,
    "ExecuteTime": {
     "end_time": "2025-01-21T10:06:40.914168558Z",
     "start_time": "2025-01-21T10:06:40.775569059Z"
    }
   },
   "id": "7f4660f2ca2b3e87"
  },
  {
   "cell_type": "markdown",
   "source": [
    "# =============================\n",
    "# Anomaly Detection and Cleaning\n",
    "# ============================="
   ],
   "metadata": {
    "collapsed": false
   },
   "id": "65eb1ba9e8df23f4"
  },
  {
   "cell_type": "code",
   "execution_count": 6,
   "outputs": [
    {
     "name": "stdout",
     "output_type": "stream",
     "text": [
      "Data removed total: 689 out of 20965\n",
      "Total data: 20965\n",
      "Clean data: 20276\n",
      "Data removed total: 325 out of 9161\n",
      "Total data: 9161\n",
      "Clean data: 8836\n"
     ]
    }
   ],
   "source": [
    "# Anomaly detection\n",
    "importlib.reload(Anomaly)\n",
    "# Combine training and test sets across age groups\n",
    "data_train = pd.concat([data_train_young, data_train_mid, data_train_old])\n",
    "data_test = pd.concat([data_test_young, data_test_mid, data_test_old])\n",
    "# Detect and remove anomalies from training and test data\n",
    "data_train, anomaly_model = Anomaly.anomaly_all(data_train, 0)\n",
    "data_test = Anomaly.anomaly_test(data_test, anomaly_model, 0)"
   ],
   "metadata": {
    "collapsed": false,
    "ExecuteTime": {
     "end_time": "2025-01-21T10:06:41.308563923Z",
     "start_time": "2025-01-21T10:06:40.913778289Z"
    }
   },
   "id": "ad378852c5be0423"
  },
  {
   "cell_type": "code",
   "execution_count": null,
   "outputs": [],
   "source": [
    "importlib.reload(Group_age_gender)\n",
    "# Group data after anomaly removal\n",
    "data_train_young, data_train_mid, data_train_old = Group_age_gender.age3(data_train, 35, 55)\n",
    "\n",
    "data_test_young, data_test_mid, data_test_old = Group_age_gender.age3(data_test, 35, 55)"
   ],
   "metadata": {
    "collapsed": false
   },
   "id": "8a9abfc4206875fe"
  },
  {
   "cell_type": "markdown",
   "source": [
    "# =============================\n",
    "# Resampling Data\n",
    "# ============================="
   ],
   "metadata": {
    "collapsed": false
   },
   "id": "214260eace694958"
  },
  {
   "cell_type": "code",
   "execution_count": 8,
   "outputs": [
    {
     "name": "stdout",
     "output_type": "stream",
     "text": [
      "Minimum size: 8.0, Second minimum size: 47\n",
      "\n",
      "Resampled Data Summary:\n",
      "+---------------+----------+-------------------------+--------------------------+\n",
      "| Condition     | Gender   |   Resampled Sample Size |   Resampled Subject Size |\n",
      "+===============+==========+=========================+==========================+\n",
      "| Condition 0.0 | Female   |                      47 |                       40 |\n",
      "+---------------+----------+-------------------------+--------------------------+\n",
      "| Condition 0.0 | Male     |                      47 |                       47 |\n",
      "+---------------+----------+-------------------------+--------------------------+\n",
      "| Condition 1.0 | Female   |                      47 |                        2 |\n",
      "+---------------+----------+-------------------------+--------------------------+\n",
      "| Condition 1.0 | Male     |                      47 |                       12 |\n",
      "+---------------+----------+-------------------------+--------------------------+\n",
      "Minimum size: 357.0, Second minimum size: 708\n",
      "\n",
      "Resampled Data Summary:\n",
      "+---------------+----------+-------------------------+--------------------------+\n",
      "| Condition     | Gender   |   Resampled Sample Size |   Resampled Subject Size |\n",
      "+===============+==========+=========================+==========================+\n",
      "| Condition 0.0 | Female   |                     708 |                       91 |\n",
      "+---------------+----------+-------------------------+--------------------------+\n",
      "| Condition 0.0 | Male     |                     708 |                      311 |\n",
      "+---------------+----------+-------------------------+--------------------------+\n",
      "| Condition 1.0 | Female   |                     708 |                       41 |\n",
      "+---------------+----------+-------------------------+--------------------------+\n",
      "| Condition 1.0 | Male     |                     708 |                       92 |\n",
      "+---------------+----------+-------------------------+--------------------------+\n",
      "Minimum size: 442.0, Second minimum size: 1507\n",
      "\n",
      "Resampled Data Summary:\n",
      "+---------------+----------+-------------------------+--------------------------+\n",
      "| Condition     | Gender   |   Resampled Sample Size |   Resampled Subject Size |\n",
      "+===============+==========+=========================+==========================+\n",
      "| Condition 0.0 | Female   |                    1507 |                       51 |\n",
      "+---------------+----------+-------------------------+--------------------------+\n",
      "| Condition 0.0 | Male     |                    1507 |                      160 |\n",
      "+---------------+----------+-------------------------+--------------------------+\n",
      "| Condition 1.0 | Female   |                    1507 |                      160 |\n",
      "+---------------+----------+-------------------------+--------------------------+\n",
      "| Condition 1.0 | Male     |                    1507 |                      251 |\n",
      "+---------------+----------+-------------------------+--------------------------+\n"
     ]
    }
   ],
   "source": [
    "import Resample\n",
    "importlib.reload(Resample)\n",
    "data_train_young_rs = Resample.resample_subgroups(data_train_young)\n",
    "data_train_mid_rs = Resample.resample_subgroups(data_train_mid)\n",
    "data_train_old_rs = Resample.resample_subgroups(data_train_old)"
   ],
   "metadata": {
    "collapsed": false,
    "ExecuteTime": {
     "end_time": "2025-01-21T10:06:45.186152943Z",
     "start_time": "2025-01-21T10:06:45.117220556Z"
    }
   },
   "id": "eae3481d6e2c405d"
  },
  {
   "cell_type": "markdown",
   "source": [
    "# =============================\n",
    "# Feature Scaling using GWS\n",
    "# ============================="
   ],
   "metadata": {
    "collapsed": false
   },
   "id": "e080ba99fe4ffbd5"
  },
  {
   "cell_type": "code",
   "execution_count": 9,
   "outputs": [],
   "source": [
    "import GWS\n",
    "importlib.reload(GWS)\n",
    "\n",
    "data_train_young_s, data_test_young_s, scaler_young_f, scaler_young_m = GWS.gws(data_train_young_rs, data_train_young, data_test_young)\n",
    "\n",
    "data_train_mid_s, data_test_mid_s, scaler_mid_f, scaler_mid_m = GWS.gws(data_train_mid_rs, data_train_mid, data_test_mid)\n",
    "\n",
    "data_train_old_s, data_test_old_s, scaler_old_f, scaler_old_m = GWS.gws(data_train_old_rs, data_train_old, data_test_old)\n"
   ],
   "metadata": {
    "collapsed": false,
    "ExecuteTime": {
     "end_time": "2025-01-21T10:06:46.883614989Z",
     "start_time": "2025-01-21T10:06:45.947811471Z"
    }
   },
   "id": "b3ab6cb139b82392"
  },
  {
   "cell_type": "code",
   "execution_count": 10,
   "outputs": [],
   "source": [
    "data_train_s = pd.concat([data_train_young_s, data_train_mid_s, data_train_old_s])\n",
    "data_train_s.columns = data_train_s.columns.str.replace('[<>\\[\\]]', '_', regex=True)\n",
    "data_test_s = pd.concat([data_test_young_s, data_test_mid_s, data_test_old_s])\n",
    "data_test_s.columns = data_test_s.columns.str.replace('[<>\\[\\]]', '_', regex=True)"
   ],
   "metadata": {
    "collapsed": false,
    "ExecuteTime": {
     "end_time": "2025-01-21T10:06:47.514610881Z",
     "start_time": "2025-01-21T10:06:47.477146276Z"
    }
   },
   "id": "7ae59d32c172b1cb"
  },
  {
   "cell_type": "code",
   "execution_count": 11,
   "outputs": [
    {
     "name": "stdout",
     "output_type": "stream",
     "text": [
      "Accuracy of XGB classifier on training set: 0.9972\n"
     ]
    }
   ],
   "source": [
    "from sklearn.model_selection import GroupShuffleSplit\n",
    "from xgboost import XGBClassifier\n",
    "modelxgb = XGBClassifier(eval_metric='mlogloss')\n",
    "\n",
    "x_train = data_train_s.drop([ 'age', 'healthcode', 'y', 'age_range','gender'], axis=1)\n",
    "y_train = data_train_s['y']\n",
    "x_test = data_test_s.drop(['age', 'healthcode', 'y', 'age_range','gender'], axis=1)\n",
    "y_test = data_test_s['y']\n",
    "healthcode_train = data_train_s['healthcode']\n",
    "modelxgb.fit(x_train, y_train)\n",
    "print('Accuracy of XGB classifier on training set: {:.4f}'.format(modelxgb.score(x_train, y_train)))"
   ],
   "metadata": {
    "collapsed": false,
    "ExecuteTime": {
     "end_time": "2025-01-21T10:07:22.527093910Z",
     "start_time": "2025-01-21T10:06:52.548085552Z"
    }
   },
   "id": "a251b29ad446b16f"
  },
  {
   "cell_type": "markdown",
   "source": [
    "# =============================\n",
    "# Recursive Feature Elimination CV (RFECV)\n",
    "# ============================="
   ],
   "metadata": {
    "collapsed": false
   },
   "id": "9bde5d1cf8405258"
  },
  {
   "cell_type": "code",
   "execution_count": 14,
   "outputs": [
    {
     "name": "stdout",
     "output_type": "stream",
     "text": [
      "Optimal number of features: 656\n"
     ]
    },
    {
     "data": {
      "text/plain": "<Figure size 700x300 with 1 Axes>",
      "image/png": "[encoded data removed]"
     },
     "metadata": {},
     "output_type": "display_data"
    }
   ],
   "source": [
    "import RFECV_Func\n",
    "importlib.reload(RFECV_Func)\n",
    "best_features = RFECV_Func.rfecv_sel(x_train, y_train, healthcode_train, modelxgb, \"emobase\")"
   ],
   "metadata": {
    "collapsed": false,
    "ExecuteTime": {
     "end_time": "2024-06-18T16:17:32.626293741Z",
     "start_time": "2024-06-18T14:16:30.344328232Z"
    }
   },
   "id": "365a221776d10985"
  },
  {
   "cell_type": "markdown",
   "source": [
    "# =============================\n",
    "# Model Training with Selected Features\n",
    "# ============================="
   ],
   "metadata": {
    "collapsed": false
   },
   "id": "5da50a5fcd26c866"
  },
  {
   "cell_type": "code",
   "execution_count": null,
   "outputs": [],
   "source": [
    "model_rfe = XGBClassifier(eval_metric='mlogloss')\n",
    "x_train_rfe = x_train[best_features]\n",
    "data_test_meta = data_test_s[['age', 'healthcode', 'y', 'age_range','gender']]\n",
    "x_test_rfe = data_test_s[best_features]\n",
    "data_test_rfe = pd.concat([x_test_rfe, data_test_meta], axis=1)\n",
    "model_rfe.fit(x_train_rfe, y_train)"
   ],
   "metadata": {
    "collapsed": false
   },
   "id": "8fc698b495a17233"
  },
  {
   "cell_type": "markdown",
   "source": [
    "# Finetuning"
   ],
   "metadata": {
    "collapsed": false
   },
   "id": "9d21edf076d59a5f"
  },
  {
   "cell_type": "code",
   "execution_count": 17,
   "outputs": [
    {
     "name": "stdout",
     "output_type": "stream",
     "text": [
      "Fitting 2 folds for each of 27 candidates, totalling 54 fits\n",
      "Best parameters found: {'max_depth': 2, 'n_estimators': 60}\n",
      "Best accuracy found: 0.8139\n"
     ]
    }
   ],
   "source": [
    "from sklearn.model_selection import GridSearchCV\n",
    "# Define the parameter grid\n",
    "param_grid = {\n",
    "    'n_estimators': range(20, 101, 10),\n",
    "    'max_depth': range(2, 8, 2)\n",
    "}\n",
    "cv2 = GroupShuffleSplit(n_splits=2, test_size=0.2, random_state=0)\n",
    "# Initialize GridSearchCV\n",
    "grid_search = GridSearchCV(estimator=model_rfe, param_grid=param_grid, scoring='accuracy', cv=cv2, verbose=1, n_jobs=-1)\n",
    "\n",
    "# Fit the grid search to the data\n",
    "grid_search.fit(x_train_rfe, y_train, groups=healthcode_train)\n",
    "\n",
    "# Print the best parameters and the best score\n",
    "print(f\"Best parameters found: {grid_search.best_params_}\")\n",
    "print(f\"Best accuracy found: {grid_search.best_score_:.4f}\")\n",
    "\n",
    "# Use the best model found to make predictions\n",
    "best_model = grid_search.best_estimator_"
   ],
   "metadata": {
    "collapsed": false,
    "ExecuteTime": {
     "end_time": "2024-06-18T16:19:59.877386750Z",
     "start_time": "2024-06-18T16:17:39.025722509Z"
    }
   },
   "id": "bb04d9e43b7aeccc"
  },
  {
   "cell_type": "markdown",
   "source": [
    "# =============================\n",
    "# Model Evaluation\n",
    "# ============================="
   ],
   "metadata": {
    "collapsed": false
   },
   "id": "bf4835a3f1d27740"
  },
  {
   "cell_type": "markdown",
   "source": [
    "# Test scores"
   ],
   "metadata": {
    "collapsed": false
   },
   "id": "3c7bee806da2a5fb"
  },
  {
   "cell_type": "code",
   "execution_count": 28,
   "outputs": [
    {
     "name": "stdout",
     "output_type": "stream",
     "text": [
      "Accuracy: 0.8050\n",
      "Precision: 0.7522\n",
      "Recall: 0.8102\n",
      "F1-score: 0.7801\n",
      "ROC AUC: 0.8880\n",
      "Specificity: 0.8012\n",
      "\n",
      "Confusion Matrix:\n",
      "      0     1\n",
      "0  4042  1003\n",
      "1   713  3044\n",
      "\n",
      "Classification Report:\n",
      "              precision    recall  f1-score   support\n",
      "\n",
      "           0       0.85      0.80      0.82      5045\n",
      "           1       0.75      0.81      0.78      3757\n",
      "\n",
      "    accuracy                           0.81      8802\n",
      "   macro avg       0.80      0.81      0.80      8802\n",
      "weighted avg       0.81      0.81      0.81      8802\n"
     ]
    }
   ],
   "source": [
    "import Evaluation\n",
    "importlib.reload(Evaluation)\n",
    "\n",
    "Evaluation.evaluate_model(best_model, data_test_rfe)"
   ],
   "metadata": {
    "collapsed": false,
    "ExecuteTime": {
     "end_time": "2024-06-19T10:03:05.822434458Z",
     "start_time": "2024-06-19T10:03:05.756950331Z"
    }
   },
   "id": "f95a0e515d25426a"
  },
  {
   "cell_type": "markdown",
   "source": [
    "# CV scores"
   ],
   "metadata": {
    "collapsed": false
   },
   "id": "ef064bef185d55eb"
  },
  {
   "cell_type": "code",
   "execution_count": 20,
   "outputs": [
    {
     "name": "stdout",
     "output_type": "stream",
     "text": [
      "accuracy: 0.8180 (+/- 0.0081)\n",
      "precision: 0.7329 (+/- 0.0125)\n",
      "recall: 0.8386 (+/- 0.0054)\n",
      "f1: 0.7821 (+/- 0.0089)\n",
      "roc_auc: 0.8971 (+/- 0.0095)\n",
      "specificity: 0.8045 (+/- 0.0144)\n"
     ]
    }
   ],
   "source": [
    "import Evaluation\n",
    "importlib.reload(Evaluation)\n",
    "\n",
    "Evaluation.cv_scores(x_train_rfe,y_train, healthcode_train, best_model)"
   ],
   "metadata": {
    "collapsed": false,
    "ExecuteTime": {
     "end_time": "2024-06-19T07:52:47.388558096Z",
     "start_time": "2024-06-19T07:52:44.058027014Z"
    }
   },
   "id": "f8d2e1755ae72ec6"
  },
  {
   "cell_type": "markdown",
   "source": [
    "# ROC Curve"
   ],
   "metadata": {
    "collapsed": false
   },
   "id": "a1ca86b17722e0a7"
  },
  {
   "cell_type": "code",
   "execution_count": 12,
   "outputs": [
    {
     "data": {
      "text/plain": "<Figure size 800x600 with 1 Axes>",
      "image/png": "[encoded data removed]"
     },
     "metadata": {},
     "output_type": "display_data"
    }
   ],
   "source": [
    "from sklearn.metrics import roc_curve, auc\n",
    "import matplotlib.pyplot as plt\n",
    "\n",
    "x_test22 = data_test_rfe.drop(['age', 'healthcode', 'y', 'age_range', 'gender'], axis=1)\n",
    "y_test22 = data_test_rfe['y']\n",
    "\n",
    "# Predict on test set\n",
    "# y_pred22 = best_model.predict(x_test)\n",
    "y_pred_prob22 = best_model.predict_proba(x_test22)[:, 1]\n",
    "# Calculate ROC curve and AUC\n",
    "fpr, tpr, _ = roc_curve(y_test22, y_pred_prob22)\n",
    "roc_auc = auc(fpr, tpr)\n",
    "import pickle\n",
    "\n",
    "# Save the variables to a file\n",
    "with open(\"roc_data_mpower_emobase.pkl\", \"wb\") as file:\n",
    "    pickle.dump({\"y_test\": y_test22, \"y_prob\": y_pred_prob22, \"fpr\": fpr, \"tpr\": tpr}, file)\n",
    "\n",
    "# Plot the ROC Curve\n",
    "plt.figure(figsize=(8, 6))\n",
    "plt.plot(fpr, tpr, color='darkorange', lw=2, label=f\"ROC curve (AUC = {roc_auc:.2f})\")\n",
    "plt.plot([0, 1], [0, 1], color='navy', lw=2, linestyle='--', label=\"Random Guess\")\n",
    "plt.xlabel(\"False Positive Rate\")\n",
    "plt.ylabel(\"True Positive Rate\")\n",
    "plt.title(\"Receiver Operating Characteristic (ROC) Curve\")\n",
    "plt.legend(loc=\"lower right\")\n",
    "plt.grid(alpha=0.3)\n",
    "plt.show()"
   ],
   "metadata": {
    "collapsed": false,
    "ExecuteTime": {
     "start_time": "2025-01-21T10:07:30.726921376Z"
    }
   },
   "id": "4a33a73e8714dc01"
  }
 ],
 "metadata": {
  "kernelspec": {
   "display_name": "Python 3",
   "language": "python",
   "name": "python3"
  },
  "language_info": {
   "codemirror_mode": {
    "name": "ipython",
    "version": 2
   },
   "file_extension": ".py",
   "mimetype": "text/x-python",
   "name": "python",
   "nbconvert_exporter": "python",
   "pygments_lexer": "ipython2",
   "version": "2.7.6"
  }
 },
 "nbformat": 4,
 "nbformat_minor": 5
}
