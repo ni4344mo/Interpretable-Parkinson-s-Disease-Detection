{
 "cells": [
  {
   "cell_type": "code",
   "execution_count": 1,
   "id": "2dfc64896c4bba19",
   "metadata": {
    "collapsed": true,
    "ExecuteTime": {
     "end_time": "2025-01-21T09:50:04.136563192Z",
     "start_time": "2025-01-21T09:50:04.048013701Z"
    }
   },
   "outputs": [],
   "source": [
    "import importlib\n",
    "import read_data\n",
    "import Anomaly\n",
    "import pandas as pd"
   ]
  },
  {
   "cell_type": "markdown",
   "source": [
    "# =============================\n",
    "# Load mPower data with ComParE features \n",
    "# ============================="
   ],
   "metadata": {
    "collapsed": false
   },
   "id": "b91e1735e66fc508"
  },
  {
   "cell_type": "code",
   "execution_count": 2,
   "outputs": [],
   "source": [
    "# Reload custom functions to reflect changes during runtime\n",
    "importlib.reload(read_data)\n",
    "importlib.reload(Anomaly)\n",
    "# Load preprocessed mPower dataset with ComParE features\n",
    "data = read_data.read_mPower16knorm_ComParE()\n",
    "# Drop the 'medTimepoint' column as it's not needed for further analysis\n",
    "data = data.drop(['medTimepoint'], axis=1)"
   ],
   "metadata": {
    "collapsed": false,
    "ExecuteTime": {
     "end_time": "2025-01-21T09:50:43.004137609Z",
     "start_time": "2025-01-21T09:50:05.659779520Z"
    }
   },
   "id": "initial_id"
  },
  {
   "cell_type": "code",
   "execution_count": 3,
   "outputs": [
    {
     "name": "stdout",
     "output_type": "stream",
     "text": [
      "Filtered data size : (30440, 6377)\n",
      "All data\n",
      "Total Size: 62963, Subject Size: 4989\n",
      "HC - Sample Size: 23279, Subject Size: 3952\n",
      "PD - Sample Size: 39308, Subject Size: 965\n",
      "HC Female - Sample Size: 4233, Subject Size: 747\n",
      "HC Male - Sample Size: 19046, Subject Size: 3205\n",
      "PD Female - Sample Size: 18284, Subject Size: 336\n",
      "PD Male - Sample Size: 21024, Subject Size: 629\n",
      "\n",
      "\n",
      "Filtered data: Removed frequent recordings\n",
      "Total Size: 30440, Subject Size: 3969\n",
      "HC - Sample Size: 17673, Subject Size: 3048\n",
      "PD - Sample Size: 12453, Subject Size: 863\n",
      "HC Female - Sample Size: 3488, Subject Size: 578\n",
      "HC Male - Sample Size: 14185, Subject Size: 2470\n",
      "PD Female - Sample Size: 4865, Subject Size: 307\n",
      "PD Male - Sample Size: 7588, Subject Size: 556\n"
     ]
    }
   ],
   "source": [
    "# Import filtering function\n",
    "import Filter_record\n",
    "importlib.reload(Filter_record)\n",
    "# Apply filtering: Remove frequent recordings (keep only between 1 and 30 recordings per subject)\n",
    "filt_data = Filter_record.rec(data, 1, 30)\n",
    "\n",
    "# Import data printing function\n",
    "# Print original and filtered data\n",
    "import Print_data\n",
    "importlib.reload(Print_data)\n",
    "print('All data')\n",
    "Print_data.printdata(data)\n",
    "print('\\n')\n",
    "print('Filtered data: Removed frequent recordings')\n",
    "Print_data.printdata(filt_data)"
   ],
   "metadata": {
    "collapsed": false,
    "ExecuteTime": {
     "end_time": "2025-01-21T09:51:03.916711569Z",
     "start_time": "2025-01-21T09:50:59.491720418Z"
    }
   },
   "id": "11cb6ce7db1583de"
  },
  {
   "cell_type": "code",
   "execution_count": null,
   "outputs": [],
   "source": [
    "# Import age and gender grouping custom function\n",
    "import Group_age_gender\n",
    "importlib.reload(Group_age_gender)\n",
    "# Split data into three age groups: Young (<35), Mid (35-55), Old (>55)\n",
    "data_young, data_mid, data_old = Group_age_gender.age3(filt_data, 35, 55)"
   ],
   "metadata": {
    "collapsed": false
   },
   "id": "4381123e5ebd851c"
  },
  {
   "cell_type": "code",
   "execution_count": 5,
   "outputs": [
    {
     "name": "stdout",
     "output_type": "stream",
     "text": [
      "Young\n",
      "  Set Condition Gender  Sample Size  Subject Size\n",
      "Train        HC Female         1259           241\n",
      "Train        HC   Male         5620          1160\n",
      "Train        PD Female            8             2\n",
      "Train        PD   Male           49            12\n",
      " Test        HC Female          662           129\n",
      " Test        HC   Male         2226           473\n",
      " Test        PD Female            2             1\n",
      " Test        PD   Male           14             4\n",
      "Mid\n",
      "  Set Condition Gender  Sample Size  Subject Size\n",
      "Train        HC Female          742            98\n",
      "Train        HC   Male         2835           436\n",
      "Train        PD Female          411            41\n",
      "Train        PD   Male         1060            92\n",
      " Test        HC Female          256            45\n",
      " Test        HC   Male         1178           175\n",
      " Test        PD Female          239            21\n",
      " Test        PD   Male          593            45\n",
      "Old\n",
      "  Set Condition Gender  Sample Size  Subject Size\n",
      "Train        HC Female          452            51\n",
      "Train        HC   Male         1541           165\n",
      "Train        PD Female         2897           166\n",
      "Train        PD   Male         4091           273\n",
      " Test        HC Female          117            14\n",
      " Test        HC   Male          785            61\n",
      " Test        PD Female         1308            76\n",
      " Test        PD   Male         1781           130\n"
     ]
    }
   ],
   "source": [
    "# Import train-test splitting function\n",
    "import Train_Test\n",
    "importlib.reload(Train_Test)\n",
    "# Perform train-test split for each age group\n",
    "print('Young')\n",
    "data_train_young, data_test_young = Train_Test.split_and_print2(data_young)\n",
    "\n",
    "print('Mid')\n",
    "data_train_mid, data_test_mid = Train_Test.split_and_print2(data_mid)\n",
    "\n",
    "print('Old')\n",
    "data_train_old, data_test_old = Train_Test.split_and_print2(data_old)"
   ],
   "metadata": {
    "collapsed": false,
    "ExecuteTime": {
     "end_time": "2025-01-21T09:51:06.142784272Z",
     "start_time": "2025-01-21T09:51:05.428022551Z"
    }
   },
   "id": "7f4660f2ca2b3e87"
  },
  {
   "cell_type": "markdown",
   "source": [
    "# =============================\n",
    "# Anomaly Detection and Cleaning\n",
    "# ============================="
   ],
   "metadata": {
    "collapsed": false
   },
   "id": "71efa38a7ad9e58e"
  },
  {
   "cell_type": "code",
   "execution_count": 6,
   "outputs": [
    {
     "name": "stdout",
     "output_type": "stream",
     "text": [
      "Data removed total: 216 out of 20965\n",
      "Total data: 20965\n",
      "Clean data: 20749\n",
      "Data removed total: 136 out of 9161\n",
      "Total data: 9161\n",
      "Clean data: 9025\n"
     ]
    }
   ],
   "source": [
    "# Anomaly detection\n",
    "importlib.reload(Anomaly)\n",
    "# Combine training and test sets across age groups\n",
    "data_train = pd.concat([data_train_young, data_train_mid, data_train_old])\n",
    "data_test = pd.concat([data_test_young, data_test_mid, data_test_old])\n",
    "# Detect and remove anomalies from training and test data\n",
    "data_train, anomaly_model = Anomaly.anomaly_all(data_train, 0)\n",
    "data_test = Anomaly.anomaly_test(data_test, anomaly_model, 0)"
   ],
   "metadata": {
    "collapsed": false,
    "ExecuteTime": {
     "end_time": "2025-01-21T09:51:08.426086788Z",
     "start_time": "2025-01-21T09:51:06.814525682Z"
    }
   },
   "id": "ad378852c5be0423"
  },
  {
   "cell_type": "code",
   "execution_count": null,
   "outputs": [],
   "source": [
    "importlib.reload(Group_age_gender)\n",
    "\n",
    "data_train_young, data_train_mid, data_train_old = Group_age_gender.age3(data_train, 35, 55)\n",
    "\n",
    "data_test_young, data_test_mid, data_test_old = Group_age_gender.age3(data_test, 35, 55)"
   ],
   "metadata": {
    "collapsed": false
   },
   "id": "8a9abfc4206875fe"
  },
  {
   "cell_type": "markdown",
   "source": [
    "# =============================\n",
    "# Resampling Data\n",
    "# ============================="
   ],
   "metadata": {
    "collapsed": false
   },
   "id": "69d9d9dff6c53e17"
  },
  {
   "cell_type": "code",
   "execution_count": 8,
   "outputs": [
    {
     "name": "stdout",
     "output_type": "stream",
     "text": [
      "Minimum size: 8.0, Second minimum size: 49\n",
      "\n",
      "Resampled Data Summary:\n",
      "+---------------+----------+-------------------------+--------------------------+\n",
      "| Condition     | Gender   |   Resampled Sample Size |   Resampled Subject Size |\n",
      "+===============+==========+=========================+==========================+\n",
      "| Condition 0.0 | Female   |                      49 |                       44 |\n",
      "+---------------+----------+-------------------------+--------------------------+\n",
      "| Condition 0.0 | Male     |                      49 |                       47 |\n",
      "+---------------+----------+-------------------------+--------------------------+\n",
      "| Condition 1.0 | Female   |                      49 |                        2 |\n",
      "+---------------+----------+-------------------------+--------------------------+\n",
      "| Condition 1.0 | Male     |                      49 |                       12 |\n",
      "+---------------+----------+-------------------------+--------------------------+\n",
      "Minimum size: 405.0, Second minimum size: 727\n",
      "\n",
      "Resampled Data Summary:\n",
      "+---------------+----------+-------------------------+--------------------------+\n",
      "| Condition     | Gender   |   Resampled Sample Size |   Resampled Subject Size |\n",
      "+===============+==========+=========================+==========================+\n",
      "| Condition 0.0 | Female   |                     727 |                       94 |\n",
      "+---------------+----------+-------------------------+--------------------------+\n",
      "| Condition 0.0 | Male     |                     727 |                      305 |\n",
      "+---------------+----------+-------------------------+--------------------------+\n",
      "| Condition 1.0 | Female   |                     727 |                       40 |\n",
      "+---------------+----------+-------------------------+--------------------------+\n",
      "| Condition 1.0 | Male     |                     727 |                       92 |\n",
      "+---------------+----------+-------------------------+--------------------------+\n",
      "Minimum size: 450.0, Second minimum size: 1519\n",
      "\n",
      "Resampled Data Summary:\n",
      "+---------------+----------+-------------------------+--------------------------+\n",
      "| Condition     | Gender   |   Resampled Sample Size |   Resampled Subject Size |\n",
      "+===============+==========+=========================+==========================+\n",
      "| Condition 0.0 | Female   |                    1519 |                       51 |\n",
      "+---------------+----------+-------------------------+--------------------------+\n",
      "| Condition 0.0 | Male     |                    1519 |                      160 |\n",
      "+---------------+----------+-------------------------+--------------------------+\n",
      "| Condition 1.0 | Female   |                    1519 |                      160 |\n",
      "+---------------+----------+-------------------------+--------------------------+\n",
      "| Condition 1.0 | Male     |                    1519 |                      255 |\n",
      "+---------------+----------+-------------------------+--------------------------+\n"
     ]
    }
   ],
   "source": [
    "import Resample\n",
    "importlib.reload(Resample)\n",
    "data_train_young_rs = Resample.resample_subgroups(data_train_young)\n",
    "data_train_mid_rs = Resample.resample_subgroups(data_train_mid)\n",
    "data_train_old_rs = Resample.resample_subgroups(data_train_old)"
   ],
   "metadata": {
    "collapsed": false,
    "ExecuteTime": {
     "end_time": "2025-01-21T09:51:14.926718356Z",
     "start_time": "2025-01-21T09:51:14.620747103Z"
    }
   },
   "id": "eae3481d6e2c405d"
  },
  {
   "cell_type": "markdown",
   "source": [
    "# =============================\n",
    "# Feature Scaling using GWS\n",
    "# ============================="
   ],
   "metadata": {
    "collapsed": false
   },
   "id": "16feaeb359b057e9"
  },
  {
   "cell_type": "code",
   "execution_count": 9,
   "outputs": [],
   "source": [
    "import GWS\n",
    "importlib.reload(GWS)\n",
    "\n",
    "data_train_young_s, data_test_young_s, scaler_young_f, scaler_young_m = GWS.gws(data_train_young_rs, data_train_young, data_test_young)\n",
    "\n",
    "data_train_mid_s, data_test_mid_s, scaler_mid_f, scaler_mid_m = GWS.gws(data_train_mid_rs, data_train_mid, data_test_mid)\n",
    "\n",
    "data_train_old_s, data_test_old_s, scaler_old_f, scaler_old_m = GWS.gws(data_train_old_rs, data_train_old, data_test_old)"
   ],
   "metadata": {
    "collapsed": false,
    "ExecuteTime": {
     "end_time": "2025-01-21T09:51:21.407853492Z",
     "start_time": "2025-01-21T09:51:15.546135169Z"
    }
   },
   "id": "b3ab6cb139b82392"
  },
  {
   "cell_type": "code",
   "execution_count": 10,
   "outputs": [],
   "source": [
    "\n",
    "data_train_s = pd.concat([data_train_young_s, data_train_mid_s, data_train_old_s])\n",
    "data_train_s.columns = data_train_s.columns.str.replace('[<>\\[\\]]', '_', regex=True)\n",
    "data_test_s = pd.concat([data_test_young_s, data_test_mid_s, data_test_old_s])\n",
    "data_test_s.columns = data_test_s.columns.str.replace('[<>\\[\\]]', '_', regex=True)"
   ],
   "metadata": {
    "collapsed": false,
    "ExecuteTime": {
     "end_time": "2025-01-21T09:51:22.363733693Z",
     "start_time": "2025-01-21T09:51:22.131367811Z"
    }
   },
   "id": "7ae59d32c172b1cb"
  },
  {
   "cell_type": "markdown",
   "source": [
    "# =============================\n",
    "# Model Training\n",
    "# ============================="
   ],
   "metadata": {
    "collapsed": false
   },
   "id": "82ba54de7392c14a"
  },
  {
   "cell_type": "code",
   "execution_count": 11,
   "outputs": [
    {
     "name": "stdout",
     "output_type": "stream",
     "text": [
      "Accuracy of XGB classifier on training set: 1.0000\n"
     ]
    }
   ],
   "source": [
    "from xgboost import XGBClassifier\n",
    "modelxgb = XGBClassifier(eval_metric='mlogloss')\n",
    "\n",
    "x_train = data_train_s.drop([ 'age', 'healthcode', 'y', 'age_range', 'gender'], axis=1)\n",
    "y_train = data_train_s['y']\n",
    "x_test = data_test_s.drop(['age', 'healthcode', 'y', 'age_range', 'gender'], axis=1)\n",
    "y_test = data_test_s['y']\n",
    "healthcode_train = data_train_s['healthcode']\n",
    "\n",
    "modelxgb.fit(x_train, y_train)\n",
    "print('Accuracy of XGB classifier on training set: {:.4f}'.format(modelxgb.score(x_train, y_train)))"
   ],
   "metadata": {
    "collapsed": false,
    "ExecuteTime": {
     "end_time": "2025-01-21T09:52:19.267881652Z",
     "start_time": "2025-01-21T09:51:25.281869668Z"
    }
   },
   "id": "a251b29ad446b16f"
  },
  {
   "cell_type": "markdown",
   "source": [
    "# =============================\n",
    "# Model Evaluation\n",
    "# ============================="
   ],
   "metadata": {
    "collapsed": false
   },
   "id": "2443e85af8dcc249"
  },
  {
   "cell_type": "markdown",
   "source": [
    "# Test scores"
   ],
   "metadata": {
    "collapsed": false
   },
   "id": "496edb14eac49f3a"
  },
  {
   "cell_type": "code",
   "execution_count": 13,
   "outputs": [
    {
     "name": "stdout",
     "output_type": "stream",
     "text": [
      "Accuracy: 0.8160\n",
      "Precision: 0.7795\n",
      "Recall: 0.7994\n",
      "F1-score: 0.7893\n",
      "ROC AUC: 0.8969\n",
      "Specificity: 0.8287\n",
      "\n",
      "Confusion Matrix:\n",
      "      0     1\n",
      "0  4251   879\n",
      "1   780  3108\n",
      "\n",
      "Classification Report:\n",
      "              precision    recall  f1-score   support\n",
      "\n",
      "           0       0.84      0.83      0.84      5130\n",
      "           1       0.78      0.80      0.79      3888\n",
      "\n",
      "    accuracy                           0.82      9018\n",
      "   macro avg       0.81      0.81      0.81      9018\n",
      "weighted avg       0.82      0.82      0.82      9018\n"
     ]
    }
   ],
   "source": [
    "import Evaluation\n",
    "importlib.reload(Evaluation)\n",
    "\n",
    "Evaluation.evaluate_model(modelxgb, data_test_s)"
   ],
   "metadata": {
    "collapsed": false,
    "ExecuteTime": {
     "end_time": "2024-06-19T14:33:58.127719884Z",
     "start_time": "2024-06-19T14:33:57.833068890Z"
    }
   },
   "id": "9f49b9ad0750c83e"
  },
  {
   "cell_type": "markdown",
   "source": [
    "# CV scores"
   ],
   "metadata": {
    "collapsed": false
   },
   "id": "bdc31320582230eb"
  },
  {
   "cell_type": "code",
   "execution_count": 14,
   "outputs": [
    {
     "name": "stdout",
     "output_type": "stream",
     "text": [
      "accuracy: 0.8276 (+/- 0.0116)\n",
      "precision: 0.7673 (+/- 0.0443)\n",
      "recall: 0.8133 (+/- 0.0221)\n",
      "f1: 0.7886 (+/- 0.0203)\n",
      "roc_auc: 0.9028 (+/- 0.0091)\n",
      "specificity: 0.8391 (+/- 0.0193)\n"
     ]
    }
   ],
   "source": [
    "import Evaluation\n",
    "importlib.reload(Evaluation)\n",
    "\n",
    "Evaluation.cv_scores(x_train,y_train, healthcode_train, modelxgb)"
   ],
   "metadata": {
    "collapsed": false,
    "ExecuteTime": {
     "end_time": "2024-06-19T14:38:21.951037129Z",
     "start_time": "2024-06-19T14:35:54.376595988Z"
    }
   },
   "id": "18c21220d3417979"
  },
  {
   "cell_type": "code",
   "execution_count": 12,
   "outputs": [
    {
     "data": {
      "text/plain": "<Figure size 800x600 with 1 Axes>",
      "image/png": "[encoded data removed]"
     },
     "metadata": {},
     "output_type": "display_data"
    }
   ],
   "source": [
    "from sklearn.metrics import roc_curve, auc, RocCurveDisplay\n",
    "import matplotlib.pyplot as plt\n",
    "\n",
    "x_test22 = data_test_s.drop(['age', 'healthcode', 'y', 'age_range', 'gender'], axis=1)\n",
    "y_test22 = data_test_s['y']\n",
    "\n",
    "# Predict on test set\n",
    "\n",
    "y_pred_prob22 = modelxgb.predict_proba(x_test22)[:, 1]\n",
    "# Calculate ROC curve and AUC\n",
    "fpr, tpr, _ = roc_curve(y_test22, y_pred_prob22)\n",
    "roc_auc = auc(fpr, tpr)\n",
    "import pickle\n",
    "\n",
    "# Save the variables to a file\n",
    "with open(\"roc_data_mpower_compare.pkl\", \"wb\") as file:\n",
    "    pickle.dump({\"y_test\": y_test22, \"y_prob\": y_pred_prob22, \"fpr\": fpr, \"tpr\": tpr}, file)\n",
    "\n",
    "# Plot the ROC Curve\n",
    "plt.figure(figsize=(8, 6))\n",
    "plt.plot(fpr, tpr, color='darkorange', lw=2, label=f\"ROC curve (AUC = {roc_auc:.2f})\")\n",
    "plt.plot([0, 1], [0, 1], color='navy', lw=2, linestyle='--', label=\"Random Guess\")\n",
    "plt.xlabel(\"False Positive Rate\")\n",
    "plt.ylabel(\"True Positive Rate\")\n",
    "plt.title(\"Receiver Operating Characteristic (ROC) Curve\")\n",
    "plt.legend(loc=\"lower right\")\n",
    "plt.grid(alpha=0.3)\n",
    "plt.show()"
   ],
   "metadata": {
    "collapsed": false,
    "ExecuteTime": {
     "start_time": "2025-01-21T09:54:24.795214434Z"
    }
   },
   "id": "abb40f7589013852"
  }
 ],
 "metadata": {
  "kernelspec": {
   "display_name": "Python 3",
   "language": "python",
   "name": "python3"
  },
  "language_info": {
   "codemirror_mode": {
    "name": "ipython",
    "version": 2
   },
   "file_extension": ".py",
   "mimetype": "text/x-python",
   "name": "python",
   "nbconvert_exporter": "python",
   "pygments_lexer": "ipython2",
   "version": "2.7.6"
  }
 },
 "nbformat": 4,
 "nbformat_minor": 5
}
