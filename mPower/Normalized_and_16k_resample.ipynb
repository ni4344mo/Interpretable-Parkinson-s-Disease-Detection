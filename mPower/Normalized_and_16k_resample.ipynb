{
 "cells": [
  {
   "cell_type": "code",
   "execution_count": 1,
   "id": "initial_id",
   "metadata": {
    "collapsed": true,
    "ExecuteTime": {
     "end_time": "2024-09-10T09:17:09.257005758Z",
     "start_time": "2024-09-10T09:17:08.893410819Z"
    }
   },
   "outputs": [],
   "source": [
    "import os\n",
    "import pandas as pd\n",
    "import numpy as np\n",
    "import librosa.display\n",
    "import soundfile as sf\n",
    "import shutil"
   ]
  },
  {
   "cell_type": "code",
   "execution_count": 4,
   "outputs": [],
   "source": [
    "# Path to the data\n",
    "path = 'path_to_voice_wav_data'\n",
    "res = []\n",
    "with os.scandir(path) as entries:\n",
    "        for entry in entries:\n",
    "            if 'wav' in entry.name:\n",
    "                filepath = entry.path\n",
    "                res.append(filepath)"
   ],
   "metadata": {
    "collapsed": false,
    "ExecuteTime": {
     "end_time": "2024-09-10T09:37:23.102559731Z",
     "start_time": "2024-09-10T09:37:23.061721425Z"
    }
   },
   "id": "81fae24c1772b5e3"
  },
  {
   "cell_type": "markdown",
   "source": [
    "# Normalize the voice recordings and resample in 16k format"
   ],
   "metadata": {
    "collapsed": false
   },
   "id": "28c05c620b665b4d"
  },
  {
   "cell_type": "code",
   "execution_count": 5,
   "outputs": [],
   "source": [
    "# Set the target sampling rate\n",
    "target_sr = 16000  # Example: 22.05 kHz\n",
    "output_directory = \"path_to_where_you_want_to_save_voice_data_in_16k_wav_format\"\n",
    "\n",
    "for i in range(len(res)):\n",
    "    f = res[i]\n",
    "    output_filename =  os.path.basename(f)\n",
    "    # Remove the mean and std\n",
    "    y, sr = librosa.load(f) \n",
    "    y_resampled = librosa.resample(y, orig_sr=sr, target_sr=target_sr)\n",
    "    y_resampled = (y_resampled-np.mean(y_resampled))/np.std(y_resampled)\n",
    "    # Ensure the output directory exists; create it if it doesn't\n",
    "    os.makedirs(output_directory, exist_ok=True)\n",
    "    # Generate the full output file path\n",
    "    output_path = os.path.join(output_directory, output_filename)\n",
    "    # Save the resampled audio\n",
    "    sf.write(output_path, y_resampled, 16000)\n",
    "    # wavfile.write(output_path, fs, ff)"
   ],
   "metadata": {
    "collapsed": false,
    "ExecuteTime": {
     "end_time": "2024-09-10T09:38:08.232708196Z",
     "start_time": "2024-09-10T09:38:06.954225826Z"
    }
   },
   "id": "c56673a90d225011"
  }
 ],
 "metadata": {
  "kernelspec": {
   "display_name": "Python 3",
   "language": "python",
   "name": "python3"
  },
  "language_info": {
   "codemirror_mode": {
    "name": "ipython",
    "version": 2
   },
   "file_extension": ".py",
   "mimetype": "text/x-python",
   "name": "python",
   "nbconvert_exporter": "python",
   "pygments_lexer": "ipython2",
   "version": "2.7.6"
  }
 },
 "nbformat": 4,
 "nbformat_minor": 5
}
