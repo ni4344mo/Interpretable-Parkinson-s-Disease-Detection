{
 "cells": [
  {
   "cell_type": "code",
   "execution_count": 1,
   "id": "d0c4694cf1d5674c",
   "metadata": {
    "collapsed": true,
    "ExecuteTime": {
     "end_time": "2024-09-16T10:30:12.367405265Z",
     "start_time": "2024-09-16T10:30:12.296645026Z"
    }
   },
   "outputs": [],
   "source": [
    "import opensmile\n",
    "import os"
   ]
  },
  {
   "cell_type": "code",
   "execution_count": 8,
   "outputs": [],
   "source": [
    "path = 'Path_to_voice_data'\n",
    "res = []\n",
    "with os.scandir(path) as entries:\n",
    "    for entry in entries:\n",
    "        if 'wav' in entry.name:\n",
    "            filepath = entry.path\n",
    "            res.append(filepath)\n",
    "            "
   ],
   "metadata": {
    "collapsed": false,
    "ExecuteTime": {
     "end_time": "2024-09-16T13:37:04.662040136Z",
     "start_time": "2024-09-16T13:37:04.647100611Z"
    }
   },
   "id": "52b47a6a3f9671e6"
  },
  {
   "cell_type": "markdown",
   "source": [
    "# eGeMAPS fetaures"
   ],
   "metadata": {
    "collapsed": false
   },
   "id": "147a51b36daf66bd"
  },
  {
   "cell_type": "code",
   "execution_count": 9,
   "outputs": [],
   "source": [
    "files = res  # pick files\n",
    "smile = opensmile.Smile(\n",
    "    feature_set=opensmile.FeatureSet.eGeMAPSv02,\n",
    "    feature_level=opensmile.FeatureLevel.Functionals,\n",
    ")\n",
    "y = smile.process_files(\n",
    "    files)\n",
    "\n",
    "y.to_csv('eGeMAPS_index.csv')"
   ],
   "metadata": {
    "collapsed": false,
    "ExecuteTime": {
     "end_time": "2024-09-16T13:37:15.912251182Z",
     "start_time": "2024-09-16T13:37:14.837275428Z"
    }
   },
   "id": "ae5f4a96e4a42f1b"
  },
  {
   "cell_type": "markdown",
   "source": [
    "# Emobase features"
   ],
   "metadata": {
    "collapsed": false
   },
   "id": "f9c16bdb6cac689d"
  },
  {
   "cell_type": "code",
   "execution_count": 10,
   "outputs": [],
   "source": [
    "\n",
    "files = res  # pick files\n",
    "smile = opensmile.Smile(\n",
    "    feature_set=opensmile.FeatureSet.emobase,\n",
    "    feature_level=opensmile.FeatureLevel.Functionals,\n",
    ")\n",
    "y2 = smile.process_files(\n",
    "    files)\n",
    "\n",
    "y2.to_csv('emobase_index.csv')"
   ],
   "metadata": {
    "collapsed": false,
    "ExecuteTime": {
     "end_time": "2024-09-16T13:37:30.028606656Z",
     "start_time": "2024-09-16T13:37:29.643562796Z"
    }
   },
   "id": "bc9f34f38144ea2c"
  },
  {
   "cell_type": "markdown",
   "source": [
    "# ComParE features\n",
    "Extraction of ComPaE feature set takes a long time"
   ],
   "metadata": {
    "collapsed": false
   },
   "id": "9421547f8f9c22e3"
  },
  {
   "cell_type": "code",
   "execution_count": 11,
   "outputs": [],
   "source": [
    "files = res  # pick files\n",
    "smile = opensmile.Smile(\n",
    "    feature_set=opensmile.FeatureSet.ComParE_2016,\n",
    "    feature_level=opensmile.FeatureLevel.Functionals,\n",
    ")\n",
    "y3 = smile.process_files(\n",
    "    files)\n",
    "\n",
    "y3.to_csv('ComParE_index.csv')"
   ],
   "metadata": {
    "collapsed": false,
    "ExecuteTime": {
     "end_time": "2024-09-16T13:37:38.633156091Z",
     "start_time": "2024-09-16T13:37:37.602969449Z"
    }
   },
   "id": "db946a90b5d90b46"
  },
  {
   "cell_type": "code",
   "execution_count": null,
   "outputs": [],
   "source": [
    "y.head()"
   ],
   "metadata": {
    "collapsed": false
   },
   "id": "b7f81da858924df8"
  }
 ],
 "metadata": {
  "kernelspec": {
   "display_name": "Python 3",
   "language": "python",
   "name": "python3"
  },
  "language_info": {
   "codemirror_mode": {
    "name": "ipython",
    "version": 2
   },
   "file_extension": ".py",
   "mimetype": "text/x-python",
   "name": "python",
   "nbconvert_exporter": "python",
   "pygments_lexer": "ipython2",
   "version": "2.7.6"
  }
 },
 "nbformat": 4,
 "nbformat_minor": 5
}
